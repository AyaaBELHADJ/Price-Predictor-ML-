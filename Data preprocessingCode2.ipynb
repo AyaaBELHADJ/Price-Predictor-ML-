{
 "cells": [
  {
   "cell_type": "markdown",
   "metadata": {},
   "source": [
    "Importing libraries"
   ]
  },
  {
   "cell_type": "code",
   "execution_count": 6,
   "metadata": {},
   "outputs": [],
   "source": [
    "import pandas as pd\n",
    "import numpy as np"
   ]
  },
  {
   "cell_type": "markdown",
   "metadata": {},
   "source": [
    "Importing the DataSet"
   ]
  },
  {
   "cell_type": "code",
   "execution_count": 8,
   "metadata": {},
   "outputs": [],
   "source": [
    "dataset = pd.read_csv(\"C:\\\\Users\\\\boukh\\\\Downloads\\\\nouveau_fichier.csv\")\n",
    "#.head(): C'est une méthode de Pandas qui renvoie les premières lignes du DataFrame. Par défaut, elle renvoie les cinq premières lignes\n",
    "print (dataset.head())"
   ]
  },
  {
   "cell_type": "markdown",
   "metadata": {},
   "source": [
    "Check the data info"
   ]
  },
  {
   "cell_type": "code",
   "execution_count": null,
   "metadata": {},
   "outputs": [],
   "source": [
    "  #fournir des informations détaillées sur le DataFrame(Le nombre total d'entrées non nulles dans chaque colonne ; le type de données de chaque colonne)\n",
    "dataset.info()\n",
    "# voir le nbr des informations manquantes dans chaque colonne\n",
    "#.isnull().sum() est utilisée pour compter le nombre de valeurs nulles (ou manquantes) dans chaque colonne du DataFrame\n",
    "dataset.isnull().sum() "
   ]
  },
  {
   "cell_type": "markdown",
   "metadata": {},
   "source": [
    "Statistical Analysis"
   ]
  },
  {
   "cell_type": "code",
   "execution_count": null,
   "metadata": {},
   "outputs": [],
   "source": [
    "#.describe():génère un résumé statistique descriptif pour chaque colonne DataFrame.\n",
    "#Nombre d'éléments non manquants (count); Moyenne (mean);Écart type (std);Valeur minimale (min);Premier quartile (25%);Médiane (50% ou la valeur du deuxième quartile);Troisième quartile (75%);Valeur maximale (max)\n",
    "dataset.describe()"
   ]
  },
  {
   "cell_type": "markdown",
   "metadata": {},
   "source": [
    "supprimer les colonnes vides "
   ]
  },
  {
   "cell_type": "code",
   "execution_count": null,
   "metadata": {},
   "outputs": [],
   "source": [
    "dataset.drop(columns=['specs_energie'], inplace=True)\n",
    "dataset.drop(columns=['specs_boite'], inplace=True)\n",
    "dataset.to_csv(\"C:\\\\Users\\\\boukh\\\\Downloads\\\\nouveau_fichier.csv\", index=False)\n"
   ]
  },
  {
   "cell_type": "markdown",
   "metadata": {},
   "source": [
    "Check the total number of Unique Values"
   ]
  },
  {
   "cell_type": "code",
   "execution_count": null,
   "metadata": {},
   "outputs": [],
   "source": [
    "# Categorical columns\n",
    "cat_col = [col for col in dataset.columns if dataset[col].dtype == 'object']\n",
    "print('Categorical columns :',cat_col)\n",
    "# Numerical columns\n",
    "num_col = [col for col in dataset.columns if dataset[col].dtype != 'object']\n",
    "print('Numerical columns :',num_col)\n",
    "#the total number of Unique Values\n",
    "dataset[num_col].nunique()\n",
    "dataset[cat_col].nunique()\n"
   ]
  },
  {
   "cell_type": "markdown",
   "metadata": {},
   "source": [
    "supprimes les doublons"
   ]
  },
  {
   "cell_type": "code",
   "execution_count": null,
   "metadata": {},
   "outputs": [],
   "source": [
    "# Supprimer les lignes en double\n",
    "dataset.drop_duplicates(inplace=True)\n",
    "# Réinitialiser l'index après la suppression des lignes en double\n",
    "dataset.reset_index(drop=True, inplace=True)\n",
    "# Réécrire le DataFrame dans un nouveau fichier CSV \n",
    "dataset.to_csv('C:\\\\Users\\\\boukh\\\\Downloads\\\\nouveau_fichier.csv', index=False)"
   ]
  },
  {
   "cell_type": "markdown",
   "metadata": {},
   "source": [
    "remplacer les valeurs manquantes "
   ]
  },
  {
   "cell_type": "code",
   "execution_count": null,
   "metadata": {},
   "outputs": [],
   "source": [
    "# calucler la moyenne de la colonne \n",
    "mean_value = dataset['price'].mean()\n",
    "# Remplace les valeurs manquantes par la moyenne de la colonne\n",
    "dataset['price'].fillna(mean_value, inplace=True) \n",
    "dataset.to_csv('C:\\\\Users\\\\boukh\\\\Downloads\\\\nouveau_fichier.csv', index=False)"
   ]
  },
  {
   "cell_type": "markdown",
   "metadata": {},
   "source": [
    "le nombre de voitures avec un prix inférieur à un prix donné"
   ]
  },
  {
   "cell_type": "code",
   "execution_count": null,
   "metadata": {},
   "outputs": [],
   "source": [
    "prix_donne = 100000 \n",
    "# Filtrer les voitures avec un prix inférieur au prix donné\n",
    "voitures_inf_prix_donne = dataset[dataset['price'] < prix_donne]\n",
    "\n",
    "# Obtenir le nombre de voitures avec un prix inférieur au prix donné\n",
    "nbr_voitures_inf_prix_donne = len(voitures_inf_prix_donne)\n",
    "\n",
    "# Afficher le nombre de voitures avec un prix inférieur au prix donné\n",
    "print(\"Nombre de voitures avec un prix inférieur à\", prix_donne, \":\", nbr_voitures_inf_prix_donne)"
   ]
  },
  {
   "cell_type": "markdown",
   "metadata": {},
   "source": [
    "supprimer les lignes avec un prix nul ou inférieur à 10 millions centimes "
   ]
  },
  {
   "cell_type": "code",
   "execution_count": null,
   "metadata": {},
   "outputs": [],
   "source": [
    "# Filtrer les lignes avec un prix différent de zéro\n",
    "dataset = dataset[dataset['price']!=0 ]\n",
    "# Filtrer les lignes avec un prix inférieur à 10\n",
    "dataset= dataset[dataset['price'] >= 10]\n",
    "\n",
    "# Réinitialiser l'index après la suppression des lignes\n",
    "dataset.reset_index(drop=True, inplace=True)\n",
    "# Réécrire le DataFrame dans un nouveau fichier CSV si nécessaire\n",
    "dataset.to_csv('C:\\\\Users\\\\boukh\\\\Downloads\\\\nouveau_fichier.csv', index=False)\n"
   ]
  },
  {
   "cell_type": "markdown",
   "metadata": {},
   "source": [
    "Afficher l'ensemble des prix "
   ]
  },
  {
   "cell_type": "code",
   "execution_count": null,
   "metadata": {},
   "outputs": [],
   "source": [
    "ensemble_prix = dataset['price'].unique()\n",
    "\n",
    "# Afficher l'ensemble des prix\n",
    "print(\"Ensemble des prix obtenus après filtrage :\")\n",
    "print(ensemble_prix)\n",
    "\n",
    "# Ordonner les prix de manière descendante\n",
    "ensemble_prix_ordonne_desc = sorted(ensemble_prix, reverse=True)\n",
    "\n",
    "# Afficher l'ensemble des prix ordonnés de manière descendante\n",
    "print(\"\\nEnsemble des prix ordonnés de manière descendante :\")\n",
    "print(ensemble_prix_ordonne_desc)\n"
   ]
  },
  {
   "cell_type": "markdown",
   "metadata": {},
   "source": [
    "supprimer les lignes "
   ]
  },
  {
   "cell_type": "code",
   "execution_count": null,
   "metadata": {},
   "outputs": [],
   "source": [
    "# Supprimer les lignes avec des valeurs manquantes dans la colonne \"Prix\"\n",
    "dataset.dropna(subset=['Prix'], inplace=True)\n",
    "# Réinitialiser l'index après la suppression des lignes\n",
    "dataset.reset_index(drop=True, inplace=True)\n",
    "# Réécrire le DataFrame dans un nouveau fichier CSV si nécessaire\n",
    "dataset.to_csv('C:\\\\Users\\\\boukh\\\\Downloads\\\\nouveau_fichier.csv', index=False)\n"
   ]
  }
 ],
 "metadata": {
  "kernelspec": {
   "display_name": "base",
   "language": "python",
   "name": "python3"
  },
  "language_info": {
   "codemirror_mode": {
    "name": "ipython",
    "version": 3
   },
   "file_extension": ".py",
   "mimetype": "text/x-python",
   "name": "python",
   "nbconvert_exporter": "python",
   "pygments_lexer": "ipython3",
   "version": "3.11.7"
  }
 },
 "nbformat": 4,
 "nbformat_minor": 2
}
