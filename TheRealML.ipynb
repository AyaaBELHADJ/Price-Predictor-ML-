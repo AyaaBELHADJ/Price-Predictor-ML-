{
 "cells": [
  {
   "cell_type": "code",
   "execution_count": 26,
   "metadata": {},
   "outputs": [],
   "source": [
    "from sklearn.model_selection import train_test_split\n",
    "from sklearn.preprocessing import StandardScaler\n",
    "from sklearn.linear_model import LinearRegression\n",
    "from sklearn.tree import DecisionTreeRegressor\n",
    "from sklearn.ensemble import RandomForestRegressor\n",
    "from sklearn.svm import SVR\n",
    "from sklearn.neighbors import KNeighborsRegressor\n",
    "from sklearn.naive_bayes import GaussianNB\n",
    "from sklearn.ensemble import GradientBoostingRegressor\n",
    "from sklearn.neural_network import MLPRegressor\n",
    "from sklearn.decomposition import PCA\n",
    "from sklearn.cluster import KMeans\n",
    "import pandas as pd\n",
    "from sklearn.metrics import accuracy_score, r2_score\n",
    "import numpy as np\n",
    "from sklearn.metrics import r2_score, mean_absolute_error, mean_squared_error"
   ]
  },
  {
   "cell_type": "code",
   "execution_count": 27,
   "metadata": {},
   "outputs": [],
   "source": [
    "data= pd.read_csv(\"C:\\\\Users\\\\MASSIVE\\\\Price-Predictor-ML-\\\\cleaned_data.csv\")"
   ]
  },
  {
   "cell_type": "code",
   "execution_count": 28,
   "metadata": {},
   "outputs": [],
   "source": [
    "data['titre'] = data['specs_marque-voiture'] + data['specs_modele'] + data['specs_finition']\n"
   ]
  },
  {
   "cell_type": "code",
   "execution_count": 29,
   "metadata": {},
   "outputs": [],
   "source": [
    "data.drop(columns=['specs_car_engine'], axis=1, inplace=True)\n",
    "data.drop(columns=['specs_energie'], axis=1, inplace=True)\n",
    "data.drop(columns=['id'], axis=1, inplace=True)\n",
    "data.drop(columns=['specs_boite'], axis=1, inplace=True)\n",
    "data.drop(columns=['title'], axis=1, inplace=True)"
   ]
  },
  {
   "cell_type": "code",
   "execution_count": 30,
   "metadata": {},
   "outputs": [],
   "source": [
    "data['engine'] = data['Engine Capacity'] +data['Engine_Name_Match'] +  data['horsepower']"
   ]
  },
  {
   "cell_type": "code",
   "execution_count": 31,
   "metadata": {},
   "outputs": [
    {
     "name": "stdout",
     "output_type": "stream",
     "text": [
      "Index(['price', 'specs_annee', 'specs_couleur_auto', 'specs_papiers',\n",
      "       'specs_kilometrage', 'specs_marque-voiture', 'specs_modele',\n",
      "       'specs_finition', 'options', 'Engine Capacity', 'Engine_Name_Match',\n",
      "       'horsepower', 'titre', 'engine'],\n",
      "      dtype='object')\n"
     ]
    },
    {
     "data": {
      "text/plain": [
       "price                   0\n",
       "specs_annee             0\n",
       "specs_couleur_auto      0\n",
       "specs_papiers           0\n",
       "specs_kilometrage       0\n",
       "specs_marque-voiture    0\n",
       "specs_modele            0\n",
       "specs_finition          0\n",
       "options                 0\n",
       "Engine Capacity         0\n",
       "Engine_Name_Match       0\n",
       "horsepower              0\n",
       "titre                   0\n",
       "engine                  0\n",
       "dtype: int64"
      ]
     },
     "execution_count": 31,
     "metadata": {},
     "output_type": "execute_result"
    }
   ],
   "source": [
    "print(data.columns)\n",
    "data.isnull().sum()"
   ]
  },
  {
   "cell_type": "code",
   "execution_count": 32,
   "metadata": {},
   "outputs": [],
   "source": [
    "data['car_age'] = 2024 - data['specs_annee']\n",
    "\n",
    "# 2. Engine-Based Features\n",
    "data['engine_capacity_bin'] = pd.cut(data['Engine Capacity'], bins=[0, 9, 18, 25], labels=[1, 2,3])\n",
    "\n",
    "# 3. Kilometrage-Based Features\n",
    "data['kilometrage_bin'] = pd.cut(data['specs_kilometrage'], bins=[0, 200000, 400000, 600000,9999999], labels=[1, 2,3,4])\n",
    "\n",
    "# 5. Price-Based Features\n",
    "data['log_price'] = np.log(data['price'])"
   ]
  },
  {
   "cell_type": "code",
   "execution_count": 33,
   "metadata": {},
   "outputs": [
    {
     "name": "stdout",
     "output_type": "stream",
     "text": [
      "Index(['price', 'specs_annee', 'specs_couleur_auto', 'specs_papiers',\n",
      "       'specs_kilometrage', 'specs_marque-voiture', 'specs_modele',\n",
      "       'specs_finition', 'options', 'Engine Capacity', 'Engine_Name_Match',\n",
      "       'horsepower', 'titre', 'engine', 'car_age', 'engine_capacity_bin',\n",
      "       'kilometrage_bin', 'log_price'],\n",
      "      dtype='object')\n"
     ]
    },
    {
     "data": {
      "text/plain": [
       "price                      0\n",
       "specs_annee                0\n",
       "specs_couleur_auto         0\n",
       "specs_papiers              0\n",
       "specs_kilometrage          0\n",
       "specs_marque-voiture       0\n",
       "specs_modele               0\n",
       "specs_finition             0\n",
       "options                    0\n",
       "Engine Capacity            0\n",
       "Engine_Name_Match          0\n",
       "horsepower                 0\n",
       "titre                      0\n",
       "engine                     0\n",
       "car_age                    0\n",
       "engine_capacity_bin        4\n",
       "kilometrage_bin         2135\n",
       "log_price                  0\n",
       "dtype: int64"
      ]
     },
     "execution_count": 33,
     "metadata": {},
     "output_type": "execute_result"
    }
   ],
   "source": [
    "print(data.columns)\n",
    "data.isnull().sum()"
   ]
  },
  {
   "cell_type": "code",
   "execution_count": 34,
   "metadata": {},
   "outputs": [],
   "source": [
    "data['price_per_kilometer'] = data['price'] / data['specs_kilometrage']\n",
    "data['price_squared_per_kilometer'] = data['price'] ** 2 / data['specs_kilometrage']\n",
    "data['horsepower_per_engine_capacity'] = data['horsepower'] / data['Engine Capacity']\n",
    "data['price_per_horsepower'] = data['price'] / data['horsepower']\n",
    "data['log_price_per_kilometer'] = np.log(data['price']) / data['specs_kilometrage']\n",
    "data['price_per_car_age'] = data['price'] / data['car_age']\n",
    "data['engine_capacity_per_car_age'] = data['Engine Capacity'] / data['car_age']\n",
    "data['kilometers_per_year'] = data['specs_kilometrage'] / data['car_age']\n",
    "\n",
    "# Replace inf and NaN values that might be caused by division by zero\n",
    "data.replace([np.inf, -np.inf], np.nan, inplace=True)\n"
   ]
  },
  {
   "cell_type": "code",
   "execution_count": 39,
   "metadata": {},
   "outputs": [],
   "source": [
    "data.loc[1, 'price'] = np.nan\n",
    "data.loc[2, 'specs_finition'] = np.nan\n",
    "\n",
    "# Separate the categorical and numerical columns\n",
    "categorical_cols = data.select_dtypes(include=['category', 'object']).columns\n",
    "numerical_cols = data.select_dtypes(include=[np.number]).columns\n",
    "\n",
    "# Fill NaN values in numerical columns\n",
    "data[numerical_cols] = data[numerical_cols].fillna(0)\n",
    "\n",
    "# Fill NaN values in categorical columns by temporarily converting them to object type\n",
    "data[categorical_cols] = data[categorical_cols].astype('object').fillna('Unknown')\n",
    "\n",
    "# Convert categorical columns back to category type if needed\n",
    "data[categorical_cols] = data[categorical_cols].astype('category')"
   ]
  },
  {
   "cell_type": "code",
   "execution_count": 45,
   "metadata": {},
   "outputs": [],
   "source": [
    "data['engine_capacity_bin'] = data['engine_capacity_bin'].cat.codes\n",
    "data['kilometrage_bin'] = data['kilometrage_bin'].cat.codes"
   ]
  },
  {
   "cell_type": "code",
   "execution_count": 46,
   "metadata": {},
   "outputs": [
    {
     "name": "stdout",
     "output_type": "stream",
     "text": [
      "Index(['price', 'specs_annee', 'specs_couleur_auto', 'specs_papiers',\n",
      "       'specs_kilometrage', 'specs_marque-voiture', 'specs_modele',\n",
      "       'specs_finition', 'options', 'Engine Capacity', 'Engine_Name_Match',\n",
      "       'horsepower', 'titre', 'engine', 'car_age', 'engine_capacity_bin',\n",
      "       'kilometrage_bin', 'log_price', 'price_per_kilometer',\n",
      "       'price_squared_per_kilometer', 'horsepower_per_engine_capacity',\n",
      "       'price_per_horsepower', 'log_price_per_kilometer', 'price_per_car_age',\n",
      "       'engine_capacity_per_car_age', 'kilometers_per_year'],\n",
      "      dtype='object')\n"
     ]
    },
    {
     "data": {
      "text/plain": [
       "price                             0\n",
       "specs_annee                       0\n",
       "specs_couleur_auto                0\n",
       "specs_papiers                     0\n",
       "specs_kilometrage                 0\n",
       "specs_marque-voiture              0\n",
       "specs_modele                      0\n",
       "specs_finition                    0\n",
       "options                           0\n",
       "Engine Capacity                   0\n",
       "Engine_Name_Match                 0\n",
       "horsepower                        0\n",
       "titre                             0\n",
       "engine                            0\n",
       "car_age                           0\n",
       "engine_capacity_bin               0\n",
       "kilometrage_bin                   0\n",
       "log_price                         0\n",
       "price_per_kilometer               0\n",
       "price_squared_per_kilometer       0\n",
       "horsepower_per_engine_capacity    0\n",
       "price_per_horsepower              0\n",
       "log_price_per_kilometer           0\n",
       "price_per_car_age                 0\n",
       "engine_capacity_per_car_age       0\n",
       "kilometers_per_year               0\n",
       "dtype: int64"
      ]
     },
     "execution_count": 46,
     "metadata": {},
     "output_type": "execute_result"
    }
   ],
   "source": [
    "print(data.columns)\n",
    "data.isnull().sum()"
   ]
  },
  {
   "cell_type": "code",
   "execution_count": 47,
   "metadata": {},
   "outputs": [
    {
     "name": "stdout",
     "output_type": "stream",
     "text": [
      "price                             float64\n",
      "specs_annee                         int64\n",
      "specs_couleur_auto                  int64\n",
      "specs_papiers                     float64\n",
      "specs_kilometrage                 float64\n",
      "specs_marque-voiture                int64\n",
      "specs_modele                        int64\n",
      "specs_finition                    float64\n",
      "options                             int64\n",
      "Engine Capacity                   float64\n",
      "Engine_Name_Match                   int64\n",
      "horsepower                        float64\n",
      "titre                               int64\n",
      "engine                            float64\n",
      "car_age                             int64\n",
      "engine_capacity_bin                  int8\n",
      "kilometrage_bin                      int8\n",
      "log_price                         float64\n",
      "price_per_kilometer               float64\n",
      "price_squared_per_kilometer       float64\n",
      "horsepower_per_engine_capacity    float64\n",
      "price_per_horsepower              float64\n",
      "log_price_per_kilometer           float64\n",
      "price_per_car_age                 float64\n",
      "engine_capacity_per_car_age       float64\n",
      "kilometers_per_year               float64\n",
      "dtype: object\n"
     ]
    }
   ],
   "source": [
    "print(data.dtypes)"
   ]
  },
  {
   "cell_type": "code",
   "execution_count": 48,
   "metadata": {},
   "outputs": [],
   "source": [
    "# Splitting data into features and target\n",
    "X = data.drop(columns=['price'])  # Features\n",
    "y = data['price']  # Target\n",
    "\n",
    "# Normalizing data\n",
    "scaler = StandardScaler()\n",
    "X_normalized = scaler.fit_transform(X)\n",
    "\n",
    "# Splitting data into train and test sets\n",
    "X_train, X_test, y_train, y_test = train_test_split(X_normalized, y, test_size=0.2, random_state=42)\n"
   ]
  },
  {
   "cell_type": "code",
   "execution_count": 49,
   "metadata": {},
   "outputs": [],
   "source": [
    "models = {\n",
    "    'Linear Regression': LinearRegression(),\n",
    "    'Decision Trees': DecisionTreeRegressor(),\n",
    "    'Random Forest': RandomForestRegressor(),\n",
    "    'Support Vector Machines (SVM)': SVR(),\n",
    "    'K-Nearest Neighbors (KNN)': KNeighborsRegressor(),\n",
    "    'Gradient Boosting Machines (GBM)': GradientBoostingRegressor(),\n",
    "    'Neural Networks': MLPRegressor(),\n",
    "}"
   ]
  },
  {
   "cell_type": "code",
   "execution_count": null,
   "metadata": {},
   "outputs": [],
   "source": [
    "model = RandomForestRegressor()\n",
    "\n",
    "# Train the model\n",
    "model.fit(X_train, y_train)\n",
    "\n",
    "# Predict on the test set\n",
    "y_pred = model.predict(X_test)\n",
    "\n",
    "# Calculate evaluation metrics\n",
    "r2 = r2_score(y_test, y_pred)\n",
    "mae = mean_absolute_error(y_test, y_pred)\n",
    "mse = mean_squared_error(y_test, y_pred)\n",
    "rmse = np.sqrt(mse)\n",
    "\n",
    "# Print the evaluation metrics\n",
    "print(f\"R-squared: {r2}\")\n",
    "print(f\"MAE: {mae}\")\n",
    "print(f\"MSE: {mse}\")\n",
    "print(f\"RMSE: {rmse}\")"
   ]
  },
  {
   "cell_type": "code",
   "execution_count": 50,
   "metadata": {},
   "outputs": [
    {
     "name": "stdout",
     "output_type": "stream",
     "text": [
      "                  Model  R-squared         MAE           MSE        RMSE\n",
      "0  Gaussian Naive Bayes   0.730933  256.294364  87281.377536  295.434219\n"
     ]
    }
   ],
   "source": [
    "from sklearn.naive_bayes import GaussianNB\n",
    "from sklearn.preprocessing import KBinsDiscretizer\n",
    "from sklearn.metrics import r2_score, mean_absolute_error, mean_squared_error\n",
    "import numpy as np\n",
    "import pandas as pd\n",
    "\n",
    "# Assuming you have X_train, y_train, X_test, y_test ready\n",
    "\n",
    "# Convert y_train and y_test to NumPy arrays\n",
    "y_train_np = y_train.values.reshape(-1, 1)\n",
    "y_test_np = y_test.values.reshape(-1, 1)\n",
    "\n",
    "# Discretize the target variable into bins\n",
    "n_bins = 10  # Adjust the number of bins as needed\n",
    "discretizer = KBinsDiscretizer(n_bins=n_bins, encode='ordinal', strategy='uniform')\n",
    "y_train_bins = discretizer.fit_transform(y_train_np)\n",
    "y_test_bins = discretizer.transform(y_test_np)\n",
    "\n",
    "# Train Gaussian Naive Bayes classifier\n",
    "model = GaussianNB()\n",
    "model.fit(X_train, y_train_bins.ravel())\n",
    "\n",
    "# Predict the bin labels\n",
    "y_pred_bins = model.predict(X_test)\n",
    "\n",
    "# Convert bin labels back to continuous values\n",
    "y_pred_continuous = discretizer.inverse_transform(y_pred_bins.reshape(-1, 1))\n",
    "\n",
    "# Calculate evaluation metrics\n",
    "r2 = r2_score(y_test_np, y_pred_continuous)\n",
    "mae = mean_absolute_error(y_test_np, y_pred_continuous)\n",
    "mse = mean_squared_error(y_test_np, y_pred_continuous)\n",
    "rmse = np.sqrt(mse)\n",
    "\n",
    "# Create a DataFrame to store the results\n",
    "results_df = pd.DataFrame({\n",
    "    'Model': ['Gaussian Naive Bayes'],\n",
    "    'R-squared': [r2],\n",
    "    'MAE': [mae],\n",
    "    'MSE': [mse],\n",
    "    'RMSE': [rmse]\n",
    "})\n",
    "\n",
    "# Display the results\n",
    "print(results_df)\n"
   ]
  },
  {
   "cell_type": "code",
   "execution_count": 51,
   "metadata": {},
   "outputs": [
    {
     "name": "stdout",
     "output_type": "stream",
     "text": [
      "                                  R-squared        MAE            MSE  \\\n",
      "Linear Regression                  0.953223  42.593492   15173.593014   \n",
      "Decision Trees                     0.999911   0.256792      28.754021   \n",
      "Random Forest                      0.999981   0.180460       6.123901   \n",
      "Support Vector Machines (SVM)      0.276235  95.802377  234778.379260   \n",
      "K-Nearest Neighbors (KNN)          0.951029  43.401866   15885.576522   \n",
      "Gradient Boosting Machines (GBM)   0.999942   2.339039      18.789411   \n",
      "Neural Networks                    0.992743  15.377461    2354.173646   \n",
      "\n",
      "                                        RMSE  \n",
      "Linear Regression                 123.181139  \n",
      "Decision Trees                      5.362278  \n",
      "Random Forest                       2.474652  \n",
      "Support Vector Machines (SVM)     484.539347  \n",
      "K-Nearest Neighbors (KNN)         126.037996  \n",
      "Gradient Boosting Machines (GBM)    4.334675  \n",
      "Neural Networks                    48.519827  \n"
     ]
    },
    {
     "name": "stderr",
     "output_type": "stream",
     "text": [
      "c:\\Users\\MASSIVE\\anaconda3\\Lib\\site-packages\\sklearn\\neural_network\\_multilayer_perceptron.py:686: ConvergenceWarning: Stochastic Optimizer: Maximum iterations (200) reached and the optimization hasn't converged yet.\n",
      "  warnings.warn(\n"
     ]
    }
   ],
   "source": [
    "results = []\n",
    "index = []\n",
    "\n",
    "for name, model in models.items():\n",
    "    # Fit the model\n",
    "    model.fit(X_train, y_train)\n",
    "    \n",
    "    # Predict on test set\n",
    "    y_pred = model.predict(X_test)\n",
    "    \n",
    "    # Calculate accuracy (only for classification models)\n",
    "    #accuracy = accuracy_score(y_test, y_pred) if name != 'Linear Regression' else None\n",
    "    \n",
    "    # Calculate R-squared score\n",
    "    r2 = r2_score(y_test, y_pred)\n",
    "    mae = mean_absolute_error(y_test, y_pred)\n",
    "    mse = mean_squared_error(y_test, y_pred)\n",
    "    rmse = np.sqrt(mse)\n",
    "    \n",
    "    # Append results to lists\n",
    "    index.append(name)\n",
    "    results.append({\n",
    "        'R-squared': r2,\n",
    "        'MAE': mae,\n",
    "        'MSE': mse,\n",
    "        'RMSE': rmse\n",
    "    })\n",
    "\n",
    "# Convert results to DataFrame for better visualization\n",
    "results_df = pd.DataFrame(results, index=index)\n",
    "\n",
    "# Display the results\n",
    "print(results_df)"
   ]
  },
  {
   "cell_type": "code",
   "execution_count": 53,
   "metadata": {},
   "outputs": [],
   "source": [
    "import joblib"
   ]
  },
  {
   "cell_type": "code",
   "execution_count": 54,
   "metadata": {},
   "outputs": [
    {
     "data": {
      "text/plain": [
       "['random_forest_model.joblib']"
      ]
     },
     "execution_count": 54,
     "metadata": {},
     "output_type": "execute_result"
    }
   ],
   "source": [
    "joblib.dump(RandomForestRegressor, 'random_forest_model.joblib')"
   ]
  }
 ],
 "metadata": {
  "kernelspec": {
   "display_name": "base",
   "language": "python",
   "name": "python3"
  },
  "language_info": {
   "codemirror_mode": {
    "name": "ipython",
    "version": 3
   },
   "file_extension": ".py",
   "mimetype": "text/x-python",
   "name": "python",
   "nbconvert_exporter": "python",
   "pygments_lexer": "ipython3",
   "version": "3.11.7"
  }
 },
 "nbformat": 4,
 "nbformat_minor": 2
}
