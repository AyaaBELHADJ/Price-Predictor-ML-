{
 "cells": [
  {
   "cell_type": "code",
   "execution_count": 20,
   "metadata": {},
   "outputs": [],
   "source": [
    "import numpy as np\n",
    "import pandas as pd\n",
    "import matplotlib.pyplot as plt\n",
    "import seaborn as sns\n",
    "\n",
    "from sklearn.preprocessing import StandardScaler\n",
    "from sklearn.model_selection import train_test_split,GridSearchCV\n",
    "from sklearn import metrics\n",
    "\n",
    "from sklearn.neighbors import KNeighborsClassifier #knn\n",
    "from sklearn.linear_model import LogisticRegression\n",
    "from sklearn.metrics import accuracy_score\n",
    "from sklearn.tree import DecisionTreeClassifier"
   ]
  },
  {
   "cell_type": "code",
   "execution_count": 39,
   "metadata": {},
   "outputs": [],
   "source": [
    "from sklearn.preprocessing import LabelEncoder"
   ]
  },
  {
   "cell_type": "code",
   "execution_count": 21,
   "metadata": {},
   "outputs": [],
   "source": [
    "data= pd.read_csv(\"C:\\\\Users\\\\MASSIVE\\\\Price-Predictor-ML-\\\\final.csv\")"
   ]
  },
  {
   "cell_type": "code",
   "execution_count": 22,
   "metadata": {},
   "outputs": [
    {
     "name": "stdout",
     "output_type": "stream",
     "text": [
      "Index(['id', 'title', 'price', 'specs_annee', 'specs_car_engine',\n",
      "       'specs_couleur_auto', 'specs_papiers', 'specs_kilometrage',\n",
      "       'specs_marque-voiture', 'specs_modele', 'specs_finition',\n",
      "       'specs_energie', 'specs_boite', 'option0', 'option1', 'option2',\n",
      "       'option3', 'option4', 'option5', 'option6', 'option7', 'option8',\n",
      "       'option9', 'option10', 'option11', 'option12', 'option13'],\n",
      "      dtype='object')\n"
     ]
    },
    {
     "data": {
      "text/plain": [
       "id                          0\n",
       "title                       0\n",
       "price                       0\n",
       "specs_annee                 0\n",
       "specs_car_engine         9798\n",
       "specs_couleur_auto       2494\n",
       "specs_papiers            4024\n",
       "specs_kilometrage        4661\n",
       "specs_marque-voiture        0\n",
       "specs_modele                1\n",
       "specs_finition          18647\n",
       "specs_energie           92547\n",
       "specs_boite             92547\n",
       "option0                 17057\n",
       "option1                 21209\n",
       "option2                 23907\n",
       "option3                 26781\n",
       "option4                 29897\n",
       "option5                 33568\n",
       "option6                 37328\n",
       "option7                 41555\n",
       "option8                 46047\n",
       "option9                 50978\n",
       "option10                56118\n",
       "option11                61725\n",
       "option12                68319\n",
       "option13                77359\n",
       "dtype: int64"
      ]
     },
     "execution_count": 22,
     "metadata": {},
     "output_type": "execute_result"
    }
   ],
   "source": [
    "print(data.columns)\n",
    "data.isnull().sum()"
   ]
  },
  {
   "cell_type": "code",
   "execution_count": 23,
   "metadata": {},
   "outputs": [
    {
     "data": {
      "text/html": [
       "<div>\n",
       "<style scoped>\n",
       "    .dataframe tbody tr th:only-of-type {\n",
       "        vertical-align: middle;\n",
       "    }\n",
       "\n",
       "    .dataframe tbody tr th {\n",
       "        vertical-align: top;\n",
       "    }\n",
       "\n",
       "    .dataframe thead th {\n",
       "        text-align: right;\n",
       "    }\n",
       "</style>\n",
       "<table border=\"1\" class=\"dataframe\">\n",
       "  <thead>\n",
       "    <tr style=\"text-align: right;\">\n",
       "      <th></th>\n",
       "      <th>id</th>\n",
       "      <th>price</th>\n",
       "      <th>specs_annee</th>\n",
       "      <th>specs_energie</th>\n",
       "      <th>specs_boite</th>\n",
       "    </tr>\n",
       "  </thead>\n",
       "  <tbody>\n",
       "    <tr>\n",
       "      <th>count</th>\n",
       "      <td>9.254700e+04</td>\n",
       "      <td>9.254700e+04</td>\n",
       "      <td>92547.000000</td>\n",
       "      <td>0.0</td>\n",
       "      <td>0.0</td>\n",
       "    </tr>\n",
       "    <tr>\n",
       "      <th>mean</th>\n",
       "      <td>3.812892e+07</td>\n",
       "      <td>1.203689e+17</td>\n",
       "      <td>2012.852723</td>\n",
       "      <td>NaN</td>\n",
       "      <td>NaN</td>\n",
       "    </tr>\n",
       "    <tr>\n",
       "      <th>std</th>\n",
       "      <td>3.494813e+06</td>\n",
       "      <td>3.307373e+19</td>\n",
       "      <td>8.425591</td>\n",
       "      <td>NaN</td>\n",
       "      <td>NaN</td>\n",
       "    </tr>\n",
       "    <tr>\n",
       "      <th>min</th>\n",
       "      <td>5.065853e+06</td>\n",
       "      <td>0.000000e+00</td>\n",
       "      <td>1922.000000</td>\n",
       "      <td>NaN</td>\n",
       "      <td>NaN</td>\n",
       "    </tr>\n",
       "    <tr>\n",
       "      <th>25%</th>\n",
       "      <td>3.731984e+07</td>\n",
       "      <td>3.000000e+04</td>\n",
       "      <td>2010.000000</td>\n",
       "      <td>NaN</td>\n",
       "      <td>NaN</td>\n",
       "    </tr>\n",
       "    <tr>\n",
       "      <th>50%</th>\n",
       "      <td>3.892210e+07</td>\n",
       "      <td>1.330000e+06</td>\n",
       "      <td>2014.000000</td>\n",
       "      <td>NaN</td>\n",
       "      <td>NaN</td>\n",
       "    </tr>\n",
       "    <tr>\n",
       "      <th>75%</th>\n",
       "      <td>4.049664e+07</td>\n",
       "      <td>3.000000e+06</td>\n",
       "      <td>2019.000000</td>\n",
       "      <td>NaN</td>\n",
       "      <td>NaN</td>\n",
       "    </tr>\n",
       "    <tr>\n",
       "      <th>max</th>\n",
       "      <td>4.114435e+07</td>\n",
       "      <td>1.000000e+22</td>\n",
       "      <td>2024.000000</td>\n",
       "      <td>NaN</td>\n",
       "      <td>NaN</td>\n",
       "    </tr>\n",
       "  </tbody>\n",
       "</table>\n",
       "</div>"
      ],
      "text/plain": [
       "                 id         price   specs_annee  specs_energie  specs_boite\n",
       "count  9.254700e+04  9.254700e+04  92547.000000            0.0          0.0\n",
       "mean   3.812892e+07  1.203689e+17   2012.852723            NaN          NaN\n",
       "std    3.494813e+06  3.307373e+19      8.425591            NaN          NaN\n",
       "min    5.065853e+06  0.000000e+00   1922.000000            NaN          NaN\n",
       "25%    3.731984e+07  3.000000e+04   2010.000000            NaN          NaN\n",
       "50%    3.892210e+07  1.330000e+06   2014.000000            NaN          NaN\n",
       "75%    4.049664e+07  3.000000e+06   2019.000000            NaN          NaN\n",
       "max    4.114435e+07  1.000000e+22   2024.000000            NaN          NaN"
      ]
     },
     "execution_count": 23,
     "metadata": {},
     "output_type": "execute_result"
    }
   ],
   "source": [
    "data.describe()"
   ]
  },
  {
   "cell_type": "code",
   "execution_count": 24,
   "metadata": {},
   "outputs": [],
   "source": [
    "df_sans_redondance = data.drop_duplicates(subset=['title', 'price', 'specs_annee', 'specs_car_engine',\n",
    "       'specs_couleur_auto', 'specs_papiers', 'specs_kilometrage',\n",
    "       'specs_marque-voiture', 'specs_modele', 'specs_finition',\n",
    "       'specs_energie', 'specs_boite', 'option0', 'option1', 'option2',\n",
    "       'option3', 'option4', 'option5', 'option6', 'option7', 'option8',\n",
    "       'option9', 'option10', 'option11', 'option12', 'option13'])"
   ]
  },
  {
   "cell_type": "code",
   "execution_count": 25,
   "metadata": {},
   "outputs": [
    {
     "data": {
      "text/html": [
       "<div>\n",
       "<style scoped>\n",
       "    .dataframe tbody tr th:only-of-type {\n",
       "        vertical-align: middle;\n",
       "    }\n",
       "\n",
       "    .dataframe tbody tr th {\n",
       "        vertical-align: top;\n",
       "    }\n",
       "\n",
       "    .dataframe thead th {\n",
       "        text-align: right;\n",
       "    }\n",
       "</style>\n",
       "<table border=\"1\" class=\"dataframe\">\n",
       "  <thead>\n",
       "    <tr style=\"text-align: right;\">\n",
       "      <th></th>\n",
       "      <th>id</th>\n",
       "      <th>price</th>\n",
       "      <th>specs_annee</th>\n",
       "      <th>specs_energie</th>\n",
       "      <th>specs_boite</th>\n",
       "    </tr>\n",
       "  </thead>\n",
       "  <tbody>\n",
       "    <tr>\n",
       "      <th>count</th>\n",
       "      <td>8.165000e+04</td>\n",
       "      <td>8.165000e+04</td>\n",
       "      <td>81650.000000</td>\n",
       "      <td>0.0</td>\n",
       "      <td>0.0</td>\n",
       "    </tr>\n",
       "    <tr>\n",
       "      <th>mean</th>\n",
       "      <td>3.801312e+07</td>\n",
       "      <td>1.364192e+17</td>\n",
       "      <td>2012.781115</td>\n",
       "      <td>NaN</td>\n",
       "      <td>NaN</td>\n",
       "    </tr>\n",
       "    <tr>\n",
       "      <th>std</th>\n",
       "      <td>3.610762e+06</td>\n",
       "      <td>3.521164e+19</td>\n",
       "      <td>8.432651</td>\n",
       "      <td>NaN</td>\n",
       "      <td>NaN</td>\n",
       "    </tr>\n",
       "    <tr>\n",
       "      <th>min</th>\n",
       "      <td>5.065853e+06</td>\n",
       "      <td>0.000000e+00</td>\n",
       "      <td>1922.000000</td>\n",
       "      <td>NaN</td>\n",
       "      <td>NaN</td>\n",
       "    </tr>\n",
       "    <tr>\n",
       "      <th>25%</th>\n",
       "      <td>3.725727e+07</td>\n",
       "      <td>3.000000e+04</td>\n",
       "      <td>2009.000000</td>\n",
       "      <td>NaN</td>\n",
       "      <td>NaN</td>\n",
       "    </tr>\n",
       "    <tr>\n",
       "      <th>50%</th>\n",
       "      <td>3.878532e+07</td>\n",
       "      <td>1.310000e+06</td>\n",
       "      <td>2014.000000</td>\n",
       "      <td>NaN</td>\n",
       "      <td>NaN</td>\n",
       "    </tr>\n",
       "    <tr>\n",
       "      <th>75%</th>\n",
       "      <td>4.046483e+07</td>\n",
       "      <td>3.000000e+06</td>\n",
       "      <td>2019.000000</td>\n",
       "      <td>NaN</td>\n",
       "      <td>NaN</td>\n",
       "    </tr>\n",
       "    <tr>\n",
       "      <th>max</th>\n",
       "      <td>4.114435e+07</td>\n",
       "      <td>1.000000e+22</td>\n",
       "      <td>2024.000000</td>\n",
       "      <td>NaN</td>\n",
       "      <td>NaN</td>\n",
       "    </tr>\n",
       "  </tbody>\n",
       "</table>\n",
       "</div>"
      ],
      "text/plain": [
       "                 id         price   specs_annee  specs_energie  specs_boite\n",
       "count  8.165000e+04  8.165000e+04  81650.000000            0.0          0.0\n",
       "mean   3.801312e+07  1.364192e+17   2012.781115            NaN          NaN\n",
       "std    3.610762e+06  3.521164e+19      8.432651            NaN          NaN\n",
       "min    5.065853e+06  0.000000e+00   1922.000000            NaN          NaN\n",
       "25%    3.725727e+07  3.000000e+04   2009.000000            NaN          NaN\n",
       "50%    3.878532e+07  1.310000e+06   2014.000000            NaN          NaN\n",
       "75%    4.046483e+07  3.000000e+06   2019.000000            NaN          NaN\n",
       "max    4.114435e+07  1.000000e+22   2024.000000            NaN          NaN"
      ]
     },
     "execution_count": 25,
     "metadata": {},
     "output_type": "execute_result"
    }
   ],
   "source": [
    "df_sans_redondance.describe()"
   ]
  },
  {
   "cell_type": "code",
   "execution_count": 26,
   "metadata": {},
   "outputs": [],
   "source": [
    "copy=df_sans_redondance.copy()"
   ]
  },
  {
   "cell_type": "code",
   "execution_count": 27,
   "metadata": {},
   "outputs": [],
   "source": [
    "# Create a new column named 'new_options' and initialize it with 0\n",
    "copy['options'] = 0\n",
    "\n",
    "# Iterate over each row\n",
    "for index, row in copy.iterrows():\n",
    "    options_count = 0\n",
    "    # Count options from option0 to option13\n",
    "    for i in range(14):\n",
    "        option_col = f'option{i}'\n",
    "        if not pd.isnull(row[option_col]):\n",
    "            options_count += 1\n",
    "    # Store the count of options in the 'new_options' column\n",
    "    copy.at[index, 'options'] = options_count"
   ]
  },
  {
   "cell_type": "code",
   "execution_count": 28,
   "metadata": {},
   "outputs": [
    {
     "data": {
      "text/plain": [
       "Index(['id', 'title', 'price', 'specs_annee', 'specs_car_engine',\n",
       "       'specs_couleur_auto', 'specs_papiers', 'specs_kilometrage',\n",
       "       'specs_marque-voiture', 'specs_modele', 'specs_finition',\n",
       "       'specs_energie', 'specs_boite', 'option0', 'option1', 'option2',\n",
       "       'option3', 'option4', 'option5', 'option6', 'option7', 'option8',\n",
       "       'option9', 'option10', 'option11', 'option12', 'option13', 'options'],\n",
       "      dtype='object')"
      ]
     },
     "execution_count": 28,
     "metadata": {},
     "output_type": "execute_result"
    }
   ],
   "source": [
    "copy.columns"
   ]
  },
  {
   "cell_type": "code",
   "execution_count": 29,
   "metadata": {},
   "outputs": [
    {
     "data": {
      "text/plain": [
       "<bound method IndexOpsMixin.value_counts of 0         0\n",
       "1         1\n",
       "2         7\n",
       "3        11\n",
       "4         0\n",
       "         ..\n",
       "92542    14\n",
       "92543    14\n",
       "92544     0\n",
       "92545     7\n",
       "92546    10\n",
       "Name: options, Length: 81650, dtype: int64>"
      ]
     },
     "execution_count": 29,
     "metadata": {},
     "output_type": "execute_result"
    }
   ],
   "source": [
    "copy['options'].value_counts"
   ]
  },
  {
   "cell_type": "code",
   "execution_count": 30,
   "metadata": {},
   "outputs": [],
   "source": [
    "copy.drop(['option0', 'option1', 'option2',\n",
    "       'option3', 'option4', 'option5', 'option6', 'option7', 'option8',\n",
    "       'option9', 'option10', 'option11', 'option12', 'option13'], axis=1,inplace=True)"
   ]
  },
  {
   "cell_type": "code",
   "execution_count": 31,
   "metadata": {},
   "outputs": [
    {
     "data": {
      "text/plain": [
       "Index(['id', 'title', 'price', 'specs_annee', 'specs_car_engine',\n",
       "       'specs_couleur_auto', 'specs_papiers', 'specs_kilometrage',\n",
       "       'specs_marque-voiture', 'specs_modele', 'specs_finition',\n",
       "       'specs_energie', 'specs_boite', 'options'],\n",
       "      dtype='object')"
      ]
     },
     "execution_count": 31,
     "metadata": {},
     "output_type": "execute_result"
    }
   ],
   "source": [
    "copy.columns"
   ]
  },
  {
   "cell_type": "code",
   "execution_count": 32,
   "metadata": {},
   "outputs": [
    {
     "name": "stdout",
     "output_type": "stream",
     "text": [
      "id                        int64\n",
      "title                    object\n",
      "price                   float64\n",
      "specs_annee               int64\n",
      "specs_car_engine         object\n",
      "specs_couleur_auto       object\n",
      "specs_papiers            object\n",
      "specs_kilometrage        object\n",
      "specs_marque-voiture     object\n",
      "specs_modele             object\n",
      "specs_finition           object\n",
      "specs_energie           float64\n",
      "specs_boite             float64\n",
      "dtype: object\n"
     ]
    }
   ],
   "source": [
    "print(copy[['id', 'title', 'price', 'specs_annee', 'specs_car_engine',\n",
    "       'specs_couleur_auto', 'specs_papiers', 'specs_kilometrage',\n",
    "       'specs_marque-voiture', 'specs_modele', 'specs_finition',\n",
    "       'specs_energie', 'specs_boite']].dtypes)"
   ]
  },
  {
   "cell_type": "code",
   "execution_count": 33,
   "metadata": {},
   "outputs": [],
   "source": [
    "copy['specs_kilometrage'] = pd.to_numeric(copy['specs_kilometrage'].str.replace('km', ''), errors='coerce')"
   ]
  },
  {
   "cell_type": "code",
   "execution_count": 34,
   "metadata": {},
   "outputs": [],
   "source": [
    "copy['specs_annee'] = pd.to_numeric(copy['specs_annee'],errors='coerce')\n",
    "copy['price'] = pd.to_numeric(copy['price'],errors='coerce')"
   ]
  },
  {
   "cell_type": "code",
   "execution_count": 35,
   "metadata": {},
   "outputs": [
    {
     "data": {
      "text/plain": [
       "Series([], Name: count, dtype: int64)"
      ]
     },
     "execution_count": 35,
     "metadata": {},
     "output_type": "execute_result"
    }
   ],
   "source": [
    "copy['specs_boite'].value_counts()"
   ]
  },
  {
   "cell_type": "code",
   "execution_count": 36,
   "metadata": {},
   "outputs": [
    {
     "name": "stdout",
     "output_type": "stream",
     "text": [
      "Number of null values: 81650\n",
      "Unique values: [nan]\n"
     ]
    }
   ],
   "source": [
    "# Check for null values in the 'specs_energie' column\n",
    "null_count = copy['specs_boite'].isnull().sum()\n",
    "print(\"Number of null values:\", null_count)\n",
    "\n",
    "# Display unique values in the 'specs_energie' column\n",
    "unique_values = copy['specs_boite'].unique()\n",
    "print(\"Unique values:\", unique_values)\n"
   ]
  },
  {
   "cell_type": "code",
   "execution_count": 37,
   "metadata": {},
   "outputs": [
    {
     "name": "stdout",
     "output_type": "stream",
     "text": [
      "specs_papiers\n",
      "1.0    73675\n",
      "2.0     2875\n",
      "3.0     1527\n",
      "Name: count, dtype: int64\n"
     ]
    }
   ],
   "source": [
    "copy['specs_papiers'] = copy['specs_papiers'].replace({\n",
    "    'Carte grise / safia': 1,\n",
    "    'Licence / Délai': 2,\n",
    "    'Carte jaune': 3,\n",
    "})\n",
    "\n",
    "# Display the resulting DataFrame\n",
    "print(copy['specs_papiers'].value_counts())"
   ]
  },
  {
   "cell_type": "code",
   "execution_count": 38,
   "metadata": {},
   "outputs": [
    {
     "name": "stdout",
     "output_type": "stream",
     "text": [
      "id                        int64\n",
      "title                    object\n",
      "price                   float64\n",
      "specs_annee               int64\n",
      "specs_car_engine         object\n",
      "specs_couleur_auto       object\n",
      "specs_papiers           float64\n",
      "specs_kilometrage       float64\n",
      "specs_marque-voiture     object\n",
      "specs_modele             object\n",
      "specs_finition           object\n",
      "specs_energie           float64\n",
      "specs_boite             float64\n",
      "options                   int64\n",
      "dtype: object\n"
     ]
    }
   ],
   "source": [
    "print(copy[['id', 'title', 'price', 'specs_annee', 'specs_car_engine',\n",
    "       'specs_couleur_auto', 'specs_papiers', 'specs_kilometrage',\n",
    "       'specs_marque-voiture', 'specs_modele', 'specs_finition',\n",
    "       'specs_energie', 'specs_boite', 'options']].dtypes)"
   ]
  },
  {
   "cell_type": "code",
   "execution_count": 42,
   "metadata": {},
   "outputs": [],
   "source": [
    "label_encoder = LabelEncoder()\n",
    "copy['specs_couleur_auto'] = label_encoder.fit_transform(copy['specs_couleur_auto'])"
   ]
  },
  {
   "cell_type": "code",
   "execution_count": 47,
   "metadata": {},
   "outputs": [
    {
     "data": {
      "text/plain": [
       "specs_marque-voiture\n",
       "Renault                  14962\n",
       "Peugeot                  10856\n",
       "Volkswagen                9256\n",
       "Hyundai                   4874\n",
       "Seat                      4394\n",
       "                         ...  \n",
       "Renault laguna               1\n",
       "Dacia stpway sandero         1\n",
       "Fiat une                     1\n",
       "Renu kongo                   1\n",
       "Ds7                          1\n",
       "Name: count, Length: 634, dtype: int64"
      ]
     },
     "execution_count": 47,
     "metadata": {},
     "output_type": "execute_result"
    }
   ],
   "source": [
    "copy['specs_marque-voiture'].value_counts()"
   ]
  },
  {
   "cell_type": "code",
   "execution_count": 76,
   "metadata": {},
   "outputs": [],
   "source": [
    "# Mapping dictionary to standardize brand names\n",
    "brand_mapping = {\n",
    "    'Renault laguna': 'Renault','رنوا': 'Renault','R4': 'Renault','Renu kongo':'Renault',\n",
    "    'Dacia stpway sandero': 'Dacia','Dacia stpway sandero':'Dacia','Dacia stpway sandero':'Dacia',\n",
    "    'Fiat une': 'Fiat','FIAT TIPO': 'Fiat',\n",
    "    'Renu kongo': 'Renault','كليو': 'Renault',\n",
    "    'Ds7': 'DS Automobiles',\n",
    "    'Picanto' : 'Kia','Kia  sportage': 'Kia',\n",
    "    'Ikco': 'Other',  # Correcting 'Ikco' to 'Other' (assuming it's not a valid brand)\n",
    "    'chevroli': 'Chevrolet',  # Correcting 'chevroli' to 'Chevrolet'\n",
    "    'Cheri': 'Chery','chiri': 'Chery',  # Correcting 'Cheri' to 'Chery'\n",
    "    'DS Automobiles': 'DS' ,\n",
    "    'ايبيزا 2015 2 بورت': 'Seat',\n",
    "    'bmw e36':'BMW',\n",
    "    'Picasso':'Citroen'\n",
    "}\n",
    "\n",
    "# Replace inconsistent brand names with the correct ones\n",
    "copy['specs_marque-voiture'].replace(brand_mapping, inplace=True)"
   ]
  },
  {
   "cell_type": "code",
   "execution_count": 75,
   "metadata": {},
   "outputs": [
    {
     "name": "stdout",
     "output_type": "stream",
     "text": [
      "specs_marque-voiture\n",
      "Renault                  14966\n",
      "Peugeot                  10856\n",
      "Volkswagen                9256\n",
      "Hyundai                   4874\n",
      "Seat                      4395\n",
      "                         ...  \n",
      "Dacia stpway sandero         1\n",
      "Renu kongo                   1\n",
      "NEW king                     1\n",
      "Hors bord rocca              1\n",
      "Hibao                        1\n",
      "Name: count, Length: 619, dtype: int64\n"
     ]
    }
   ],
   "source": [
    "# Check the updated value counts\n",
    "print(copy['specs_marque-voiture'].value_counts())"
   ]
  },
  {
   "cell_type": "code",
   "execution_count": 77,
   "metadata": {},
   "outputs": [
    {
     "name": "stdout",
     "output_type": "stream",
     "text": [
      "['Dacia' 'Seat' 'Kia' 'Nissan' 'Volkswagen' 'Peugeot' 'Fiat' 'Renault'\n",
      " 'Chery' 'Great Wall' 'Citroen' 'Hyundai' 'Suzuki' 'Alfa Romeo'\n",
      " 'Chevrolet' 'Mercedes' 'BMW' 'DS' 'Toyota' 'Huanghai' 'Vms' 'Skoda'\n",
      " 'Daewoo' 'Balingo' 'Haima' 'Zotye' 'Audi' 'Mini Cooper' 'Gonow'\n",
      " 'Land Rover' 'DFSK' 'Ibiza' 'SsangYong' 'QQ' 'JAC' 'Ford' 'Lada' 'Chana'\n",
      " 'Opel' 'Baic' 'Honda' 'MG' 'CERTA' 'Faw' 'Chrysler' 'DFM'\n",
      " 'Fiat Professional' 'Daihatsu' 'Hafei motors' 'Sonacom' 'Isuzu' 'Lagona'\n",
      " 'Pougou' 'Desactivation adblue sur kia sportage et hyundai tucson'\n",
      " 'رونو 18براك' 'Geely' 'Mazda' 'Kango' 'Pertner'\n",
      " 'Yamaha svho super charge' 'Lifan' 'Maruti' 'Ford fiesta' 'Tata'\n",
      " 'Gonow dfsk dfm sokon chana hafei faw' 'Rover' 'Mitsubishi' 'Changan'\n",
      " 'clio' 'Porsche' 'رونو   18' 'Aston Martin' 'Ssang yong' 'Tesla' 'Atos'\n",
      " 'Brilliance' 'رونو' 'Maserati' 'Xsara' 'Smbole' 'Jaguar' 'بيجو' 'Sym'\n",
      " 'terios' 'Dfsk dfm' 'فورد' 'شفرولي افيو' 'Golf' 'Partner' 'toureg' 'Cuxi'\n",
      " 'Renault Kangoo' 'Victoria' 'Cadillac' 'Doblo' 'Clio 4' 'Cmbole'\n",
      " 'Reneault' 'ليون' 'Bugatti' 'شيفرولي' 'Kia Sorento' 'شونق' 'Renault r21'\n",
      " 'طيوطا' 'Moteur1,6hdi110' 'Seat ateca 2023' 'Iran Khodro' 'Kangoo'\n",
      " 'maruti' 'Land rover' 'Megane' 'Jeep' 'FISPA' 'BYD' 'yuejin' 'Yamaha'\n",
      " 'Hafie herbin' 'Slcoda' 'Emgrand' 'JMC' '206' 'Cm' 'Jetta' 'Renaut'\n",
      " 'Boxer' 'Infiniti' 'Accent' 'Hummer' 'Kumatsu' 'Maruti 800' 'Chinray'\n",
      " 'range rover' 'Mahindra' 'Pegeut' 'CAKY' 'Leon' 'sym' 'Subaru' 'Haunghai'\n",
      " 'Triumph' 'Vedette' 'Clio 2' 'Volvo' 'New king' 'فورس فاڨن' 'Mini'\n",
      " 'Range rover' 'GMc' 'Yuejin' 'Forgonet' 'Clio' 'sam' 'Jocy'\n",
      " 'willys hochskis' 'جريتويل' 'شفرولي افيو لاتوت' 'Nitro yamaha' 'Creta'\n",
      " 'شفرولي' '0771720850' 'Symbole' 'Lancia' 'Kawazaki' 'Chérie' 'Foryota'\n",
      " 'Dodge' 'Golf 2' '308' 'Shacman' 'huanghai landscape' 'Citroën berlingot'\n",
      " 'Voila corsa' 'Suzouki' 'Nouvelle' 'Motom' 'Clio3' 'Benneli' 'moovway'\n",
      " 'نشري سيارات' 'Polo' 'Mpm' 'tl' 'Pikanto' 'Smart' 'Tfafic' 'Rono' 'DFAC'\n",
      " 'Shineray' 'Lincoln' 'VMS' 'Keeway' 'V-max' 'SANIYA' 'Herbin' 'Pugeux'\n",
      " 'RUNUT' 'Vw' 'Grand tigre' '305' 'Ronaut' 'A3' 'GMS' 'QQ nouvelle'\n",
      " 'Pièce Kia' 'FOTON' 'Peugeot 206 HDi 2 litre' 'Chimano' 'ولينڨ'\n",
      " 'Berlingoo' 'Clio 4 GTLine' 'Saipa' 'Renault 4' 'Hammer' 'Chiniray'\n",
      " 'Z800' 'كليو 4' 'GMC' 'Peujeot' 'Mercedes Benz' 'Sokon'\n",
      " 'Sym citycom 300i' 'Ivoc' 'Megan' 'Kawasaki' 'Forland' 'Renault symbol'\n",
      " 'Renault compus' 'Range Rover evoque' 'Ona' 'سيارات أكسدونتي ورفورم '\n",
      " 'Rifter ' 'سنكوم' 'Sheniray' 'Hafie' 'Partnar' 'Pigout ' 'BAW ISUZU  '\n",
      " 'Re nault' 'changhe' 'Symbol' 'Touran' 'Gonw' 'Duster' 'Fiat Punto 2'\n",
      " 'هيونداي' 'renaulte' 'Passat' 'فيات ' 'Voiture' 'SOKON' 'Mégane'\n",
      " 'Niva 1600' 'Congo' 'i20' 'Boxar' '207 ' '2006' 'CHANA Q20' 'بوجو 308'\n",
      " 'Scinic' ' Defac' 'Yasuzy ' 'yavuz' ' Rouno' 'Lion Fr' 'Megan 3 '\n",
      " 'Peugeot 406' 'peugot ' 'Motos-scooters' 'ATA' 'Hors bord rocca'\n",
      " 'NEW king' 'ايبيزا' 'Renu kongo ' 'Dacia stpway sandero ' 'رنو'\n",
      " 'Lagun carte' 'Samand' 'MEGANE' 'شفرولي اوبترا' 'Logan dacia'\n",
      " 'سامبول نوفال' 'كونقوا' 'assurance saa' 'Samond' 'بيجو ' 'Great wael'\n",
      " 'Seat Ibiza Fully 2013' 'Moto gevatti zz  250 cc ' 'alto' 'Toyouta'\n",
      " 'Peugeot 301 hdi' 'Crysler' 'Mercedas' 'Jinbei' 'Berlingo  '\n",
      " 'Berlingo c3' 'Golf 3' 'شيري ' 'Free lander' 'Leyon ' 'Camion' 'HUANGHAI'\n",
      " '6' 'Hayfi' 'Kongo ' 'Logan' 'Other' 'Picanto ' 'RUNAULT' 'IBIZA'\n",
      " 'TIGUAN' 'clio 3' 'كليو كلاسيك' 'QIQI' 'فيات' 'ابيزا' 'CF MOTO'\n",
      " 'شراء السيارات' 'سيات' 'Cupra' 'shacman' 'Changhe' 'CUPRA' 'Shinrey'\n",
      " 'Land Rover Ranger Rover' 'Harbine HIFI' 'Corvette' 'K66'\n",
      " 'Dfsk dfm chana hafei sokon jenbei New king' 'handicapé' 'Renalt'\n",
      " 'Formentor' 'رباطة botleuse 2023' 'Whistle tour' 'تيوتا' 'Pigo'\n",
      " 'رباطة بوتلاز 2023' 'Acheter les voiture' 'نشري سيارات أكسيدونتي'\n",
      " 'Gonow dfsk hafei dfm chiri' 'Clio 5' 'Jetour' 'Saab' 'كيا' 'Lagauna'\n",
      " 'Megane 2' 'Tayota' 'Shacman x9' 'Wuling' 'Kawawsaki' 'foryota admiral'\n",
      " 'ستبواي' 'Kongoo' 'Berlingo' 'Niva' 'Tracteur' 'Fiat doblo' 'ميقان' 'OMG'\n",
      " 'JETOUR' 'CHANGHE' 'Mercedes benz' 'Gonaw dfsk chiry haefi' 'Reuneolt'\n",
      " 'رونوا' '406hd' 'Okinoi' 'Marouti' 'Kongo' 'W Max 300' 'Yamha' 'Peogeout'\n",
      " 'Runo' 'Golf 8' 'Clark' 'cirta' '207+' 'Runeut' 'Gol' 'Migan biri'\n",
      " 'Range Rover' 'Marcury' 'Lexus' 'cimca' 'Saxo' 'Passat Baccarat plus'\n",
      " 'Cooper' 'Rétro chargeur' 'Brp' 'Qashqai' 'kia Picanto' 'GREAT WAL'\n",
      " 'Faita' 'شيري يوكي فريقو' 'Seat ibiza' 'بريونس' 'I10' 'رانج روفر'\n",
      " 'SYM ORBIT 2' 'رونو اكسبراس' \"Arkaha 140ch 3'1 TCE RSLine\" 'picanto'\n",
      " 'Siat' 'سكودا' 'Licence el moujahidin' 'Toyota land cruiser V8'\n",
      " 'Achat voiture' 'Safran' 'passat' 'Dawoo' 'ويلينق' 'افيو' 'Renault Clio'\n",
      " 'jinbei' 'Simca' 'Moto' '4x4' 'Forgon' 'Ecko denaa' 'Ecko dena' 'Chine'\n",
      " 'Compis 1.5 dci' '208' 'Huangai' \"'\" 'Hafei dfsk gonow' 'تڨوان' 'هايفي'\n",
      " 'suzki' 'CATERPillar' 'Sonacome' 'chana baic' 'قريتوال' 'Geret wall'\n",
      " 'كليو كومبوس' 'Fiat tipo life' 'Charita' 'Jaquard machinary' 'j5'\n",
      " 'ماروتي 2007' 'إفيكو' 'Siet' 'Cloi 3' 'Peaugot' 'Scanner automobile'\n",
      " 'Reprogrammation ' 'Volksvakan' 'سيثيرنا تراكتور'\n",
      " 'Dfsk faw gonow chana hafei 7plas faw v70' 'Huahe' 'jeep willys' 'اكسنت'\n",
      " 'Citroën c3 aircross' 'Tang bao' 'Passât' 'لادة' 'شانا' 'فيات ديكاتو'\n",
      " 'شيني شكمان' 'Gmc' 'Lion' 'wuling' 'Cielo' 'maroti' 'Lavuz' 'Shenray'\n",
      " 'symex' 'BYD F3' 'Teryos' 'Reunault' 'Mercedes classe a180' 'Tucson'\n",
      " 'شيري يوكي dfsk dfm gonow' 'Great' 'Pegeout' 'ibiza' 'foryota'\n",
      " 'Vespa Piaggio LML' 'Kiz' 'Haima1 alto QQ maruti' 'Scanner pour' 'داسيا'\n",
      " 'Toyora' 'Sim' 'Symlux' 'Volswagan' \"Licence d'importation\" 'Iveco'\n",
      " 'Cuxi 2' 'Licence Moudjahidines' 'Achat tout les voitures accidentée'\n",
      " 'Dfsk gonow hayfi' 'Sandiro stepwey' 'Saangyong' 'Tanduz' 'InfiniFit'\n",
      " 'Runult' 'Vmax' '308 Gt' 'Volskwagen' 'Motos' 'Dfm double cabin'\n",
      " 'Clio Japon' 'سياة' 'citroene' 'نيفا' 'iveco' 'Stapway' 'Alto' 'Opal'\n",
      " 'Gili' 'Dacia Logan MCV' 'Seriz' 'Fiat 500' 'تويوتا' 'Fiat doublo'\n",
      " 'Great wall' 'Acheter les voiture accidenté' 'ولينغ' 'وليڨ' 'Sachs'\n",
      " 'Rolls Royce' 'Cady' 'كاين ابلات فورم 120م' 'vms' 'Leon fr' 'Peugeut'\n",
      " 'شوفرولي' 'Pajero' 'Clion 3' 'Haifi' 'Peugru' 'RANGE ROVER' 'ZM'\n",
      " 'Sandero' 'سيمبول' 'Gnaw' 'Fiat Tipo+' 'sorento' 'Gonaw' 'Clio 3'\n",
      " 'سامبول' 'VW' 'GAZ  GPL BARAKI ' 'Dilta' 'Sait' 'Renlte' 'MeGan biri' 'ب'\n",
      " 'Song young' 'XINKAI' 'كونغو' 'Benni' 'Gonow dfsk dfm sokon' 'Aveo' 'WV'\n",
      " 'Volks wagen' 'papier' 'Hyundai santafé' 'Rone' 'JAGAR' '406'\n",
      " 'Range  rover' 'Peugot' 'Peageot' 'bfm' 'clio campus' 'Scoda' 'TIXON'\n",
      " 'Golf 7' 'sportage' 'كليو فراشة' 'Panaria' '207' 'Master' 'Sitrouine'\n",
      " 'Sam' 'Zastafa 128' 'DFSK gonow hafei dfm faw chana hamar Sokon'\n",
      " 'Gret wall' 'Golf8' 'SYMBOL' 'range rover évoque  7 rapport' 'Tmax 530'\n",
      " 'Gian' 'Kongor Renault' 'Runault' 'كوكسي' 'Megane 3' 'Buggi' 'CLIO  2'\n",
      " 'Paratnir' 'اودي' 'farad' 'sokon' 'hymex' 'Yuedjin' 'Gonwo' 'Benelli'\n",
      " 'FAW bestune t55 1.5 turbo 169ch المجمولة' 'Tipo' 'رخصة مجاهد' 'Pegot'\n",
      " 'Lougan' 'Peagaux' 'Clio 5 rs line' 'Logan stepway' 'Super 5' 'Sangyong'\n",
      " 'Toyota helix' 'Dfsk sokon' 'Hyundai h1' 'شيري' 'Nissan tida' 'Options '\n",
      " 'بارتنار تيببي' 'Hibao']\n"
     ]
    }
   ],
   "source": [
    "unique_brands = copy['specs_marque-voiture'].unique()\n",
    "\n",
    "# Print the list of unique brands\n",
    "print(unique_brands)"
   ]
  }
 ],
 "metadata": {
  "kernelspec": {
   "display_name": "base",
   "language": "python",
   "name": "python3"
  },
  "language_info": {
   "codemirror_mode": {
    "name": "ipython",
    "version": 3
   },
   "file_extension": ".py",
   "mimetype": "text/x-python",
   "name": "python",
   "nbconvert_exporter": "python",
   "pygments_lexer": "ipython3",
   "version": "3.11.7"
  }
 },
 "nbformat": 4,
 "nbformat_minor": 2
}
