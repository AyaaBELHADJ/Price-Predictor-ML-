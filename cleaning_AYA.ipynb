{
 "cells": [
  {
   "cell_type": "code",
   "execution_count": null,
   "metadata": {},
   "outputs": [],
   "source": [
    "import numpy as np\n",
    "import pandas as pd\n",
    "import matplotlib.pyplot as plt\n",
    "import seaborn as sns\n",
    "\n",
    "from sklearn.preprocessing import StandardScaler\n",
    "from sklearn.model_selection import train_test_split,GridSearchCV\n",
    "from sklearn import metrics\n",
    "\n",
    "from sklearn.neighbors import KNeighborsClassifier #knn\n",
    "from sklearn.linear_model import LogisticRegression\n",
    "from sklearn.metrics import accuracy_score\n",
    "from sklearn.tree import DecisionTreeClassifier"
   ]
  },
  {
   "cell_type": "code",
   "execution_count": null,
   "metadata": {},
   "outputs": [],
   "source": [
    "from sklearn.preprocessing import LabelEncoder"
   ]
  },
  {
   "cell_type": "code",
   "execution_count": null,
   "metadata": {},
   "outputs": [],
   "source": [
    "data= pd.read_csv(\"C:\\\\Users\\\\MASSIVE\\\\Price-Predictor-ML-\\\\final.csv\")"
   ]
  },
  {
   "cell_type": "code",
   "execution_count": null,
   "metadata": {},
   "outputs": [],
   "source": [
    "print(data.columns)\n",
    "data.isnull().sum()"
   ]
  },
  {
   "cell_type": "code",
   "execution_count": null,
   "metadata": {},
   "outputs": [],
   "source": [
    "data.describe()"
   ]
  },
  {
   "cell_type": "code",
   "execution_count": null,
   "metadata": {},
   "outputs": [],
   "source": [
    "df_sans_redondance = data.drop_duplicates(subset=['title', 'price', 'specs_annee', 'specs_car_engine',\n",
    "       'specs_couleur_auto', 'specs_papiers', 'specs_kilometrage',\n",
    "       'specs_marque-voiture', 'specs_modele', 'specs_finition',\n",
    "       'specs_energie', 'specs_boite', 'option0', 'option1', 'option2',\n",
    "       'option3', 'option4', 'option5', 'option6', 'option7', 'option8',\n",
    "       'option9', 'option10', 'option11', 'option12', 'option13'])"
   ]
  },
  {
   "cell_type": "code",
   "execution_count": null,
   "metadata": {},
   "outputs": [],
   "source": [
    "df_sans_redondance.describe()"
   ]
  },
  {
   "cell_type": "code",
   "execution_count": null,
   "metadata": {},
   "outputs": [],
   "source": [
    "copy=df_sans_redondance.copy()"
   ]
  },
  {
   "cell_type": "code",
   "execution_count": null,
   "metadata": {},
   "outputs": [],
   "source": [
    "# Create a new column named 'new_options' and initialize it with 0\n",
    "copy['options'] = 0\n",
    "\n",
    "# Iterate over each row\n",
    "for index, row in copy.iterrows():\n",
    "    options_count = 0\n",
    "    # Count options from option0 to option13\n",
    "    for i in range(14):\n",
    "        option_col = f'option{i}'\n",
    "        if not pd.isnull(row[option_col]):\n",
    "            options_count += 1\n",
    "    # Store the count of options in the 'new_options' column\n",
    "    copy.at[index, 'options'] = options_count"
   ]
  },
  {
   "cell_type": "code",
   "execution_count": null,
   "metadata": {},
   "outputs": [],
   "source": [
    "copy.columns"
   ]
  },
  {
   "cell_type": "code",
   "execution_count": null,
   "metadata": {},
   "outputs": [],
   "source": [
    "copy['options'].value_counts"
   ]
  },
  {
   "cell_type": "code",
   "execution_count": null,
   "metadata": {},
   "outputs": [],
   "source": [
    "copy.drop(['option0', 'option1', 'option2',\n",
    "       'option3', 'option4', 'option5', 'option6', 'option7', 'option8',\n",
    "       'option9', 'option10', 'option11', 'option12', 'option13'], axis=1,inplace=True)"
   ]
  },
  {
   "cell_type": "code",
   "execution_count": null,
   "metadata": {},
   "outputs": [],
   "source": [
    "copy.columns"
   ]
  },
  {
   "cell_type": "code",
   "execution_count": null,
   "metadata": {},
   "outputs": [],
   "source": [
    "print(copy[['id', 'title', 'price', 'specs_annee', 'specs_car_engine',\n",
    "       'specs_couleur_auto', 'specs_papiers', 'specs_kilometrage',\n",
    "       'specs_marque-voiture', 'specs_modele', 'specs_finition',\n",
    "       'specs_energie', 'specs_boite']].dtypes)"
   ]
  },
  {
   "cell_type": "code",
   "execution_count": null,
   "metadata": {},
   "outputs": [],
   "source": [
    "copy['specs_kilometrage'] = pd.to_numeric(copy['specs_kilometrage'].str.replace('km', ''), errors='coerce')"
   ]
  },
  {
   "cell_type": "code",
   "execution_count": null,
   "metadata": {},
   "outputs": [],
   "source": [
    "copy['specs_annee'] = pd.to_numeric(copy['specs_annee'],errors='coerce')\n",
    "copy['price'] = pd.to_numeric(copy['price'],errors='coerce')"
   ]
  },
  {
   "cell_type": "code",
   "execution_count": null,
   "metadata": {},
   "outputs": [],
   "source": [
    "copy['specs_papiers'].value_counts()"
   ]
  },
  {
   "cell_type": "code",
   "execution_count": null,
   "metadata": {},
   "outputs": [],
   "source": [
    "# Check for null values in the 'specs_energie' column\n",
    "null_count = copy['specs_boite'].isnull().sum()\n",
    "print(\"Number of null values:\", null_count)\n",
    "\n",
    "# Display unique values in the 'specs_energie' column\n",
    "unique_values = copy['specs_boite'].unique()\n",
    "print(\"Unique values:\", unique_values)\n"
   ]
  },
  {
   "cell_type": "code",
   "execution_count": null,
   "metadata": {},
   "outputs": [],
   "source": [
    "copy['specs_papiers'] = copy['specs_papiers'].replace({\n",
    "    'Carte grise / safia': 1,\n",
    "    'Licence / Délai': 2,\n",
    "    'Carte jaune': 3,\n",
    "})\n",
    "\n",
    "# Display the resulting DataFrame\n",
    "print(copy['specs_papiers'].value_counts())"
   ]
  },
  {
   "cell_type": "code",
   "execution_count": null,
   "metadata": {},
   "outputs": [],
   "source": [
    "print(copy[['id', 'title', 'price', 'specs_annee', 'specs_car_engine',\n",
    "       'specs_couleur_auto', 'specs_papiers', 'specs_kilometrage',\n",
    "       'specs_marque-voiture', 'specs_modele', 'specs_finition',\n",
    "       'specs_energie', 'specs_boite', 'options']].dtypes)"
   ]
  },
  {
   "cell_type": "code",
   "execution_count": null,
   "metadata": {},
   "outputs": [],
   "source": [
    "label_encoder = LabelEncoder()\n",
    "copy['specs_couleur_auto'] = label_encoder.fit_transform(copy['specs_couleur_auto'])"
   ]
  },
  {
   "cell_type": "markdown",
   "metadata": {},
   "source": [
    "# for the marque column:"
   ]
  },
  {
   "cell_type": "code",
   "execution_count": null,
   "metadata": {},
   "outputs": [],
   "source": [
    "copy['specs_marque-voiture'].value_counts()"
   ]
  },
  {
   "cell_type": "code",
   "execution_count": null,
   "metadata": {},
   "outputs": [],
   "source": [
    "# Mapping dictionary to standardize brand names\n",
    "brand_mapping = {\n",
    "    'Renault laguna': 'Renault','رونو' : 'Renault','Clio': 'Renault','Kongo': 'Renault','رنوا': 'Renault', 'R4': 'Renault', 'Renu kongo': 'Renault', 'clio 3': 'Renault',\n",
    "    'Dacia stpway sandero': 'Dacia', 'Fiat une': 'Fiat', 'FIAT TIPO': 'Fiat', 'كليو': 'Renault', 'Ds7': 'DS Automobiles',\n",
    "    'Picanto': 'Kia', 'Kia  sportage': 'Kia', 'Ikco': 'Other', 'chevroli': 'Chevrolet', 'Cheri': 'Chery', 'Jetour': 'Chery','chiri': 'Chery',\n",
    "    'ايبيزا 2015 2 بورت': 'Seat', 'Mini': 'BMW','bmw e36': 'BMW', 'Picasso': 'Citroen', 'Shacman': 'Shacman', '308': 'Peugeot',\n",
    "    'Golf 2': 'Volkswagen', 'Chérie': 'Chery', '0771720850': 'Other', 'شفرولي': 'Chevrolet', 'Creta': 'Hyundai','Mercedes Benz':'Mercedes',\n",
    "    'Vw': 'Volkswagen', '305': 'Peugeot', 'جريتويل': 'Great Wall', 'Ronaut': 'Renault', 'Rifter': 'Peugeot','Fiat Professional':'Fiat',\n",
    "    'سيارات أكسدونتي ورفورم': 'Other', 'Ona': 'Other', 'Range Rover evoque': 'Land Rover', 'Citroën berlingot': 'Citroen',\n",
    "    'Renault compus': 'Renault', 'Voila corsa': 'Opel', 'Nouvelle': 'Other', 'Grand tigre': 'Other', 'RUNUT': 'Renault',\n",
    "    'Pugeux': 'Peugeot', 'SANIYA': 'Other', 'Alto': 'Suzuki', 'Changhe': 'Changhe', 'Corvette': 'Chevrolet', 'Siat': 'SEAT',\n",
    "    '206': 'Peugeot', 'Huanghai': 'Huanghai', 'Symbole': 'Other', 'Clio 2': 'Renault', 'Leon': 'SEAT', 'Maserati': 'Maserati',\n",
    "    'Tesla': 'Tesla', 'VMS': 'Other', 'Foryota': 'Other', 'Saipa': 'Saipa', 'Smart': 'Smart', 'Jetour': 'Jetour','Lexus':'Toyota',\n",
    "    'سيات': 'SEAT', 'Lexus': 'Lexus', 'Lancia': 'Lancia', 'QQ': 'Nissan', 'Kangoo': 'Renault', 'Range rover': 'Land Rover',\n",
    "    'Hummer': 'Hummer', 'Changhe': 'Changhe', 'Saipa': 'Saipa', 'Maruti': 'Suzuki', 'Polo': 'Volkswagen', 'Chrysler': 'Chrysler',\n",
    "    'Cadillac': 'Cadillac', 'Aston Martin': 'Aston Martin', 'SYM': 'SYM', 'Emgrand': 'Emgrand', 'Ibiza': 'Seat',\n",
    "    'SEAT': 'Seat', 'Golf': 'Volkswagen', 'Yamaha': 'Yamaha', 'Iran Khodro': 'Iran Khodro', 'Volvo': 'Volvo',\n",
    "    'Cupra': 'Cupra', 'Dodge': 'Dodge', 'Infiniti': 'Nissan', 'Isuzu': 'Isuzu', 'Sokon': 'Sokon', 'بيجو': 'Peugeot'\n",
    "}\n",
    "\n",
    "   \n",
    "# Replace inconsistent brand names with the correct ones\n",
    "copy['specs_marque-voiture'].replace(brand_mapping, inplace=True)"
   ]
  },
  {
   "cell_type": "code",
   "execution_count": null,
   "metadata": {},
   "outputs": [],
   "source": [
    "copy = copy[~copy['specs_marque-voiture'].str.contains('Vms')]\n",
    "copy = copy[~copy['specs_marque-voiture'].str.contains('Sym')]"
   ]
  },
  {
   "cell_type": "code",
   "execution_count": null,
   "metadata": {},
   "outputs": [],
   "source": [
    "from collections import Counter\n",
    "\n",
    "# Count the occurrences of each brand\n",
    "brand_counts = Counter(copy['specs_marque-voiture'])\n",
    "\n",
    "# Identify brands with only one occurrence\n",
    "single_occurrence_brands = [brand for brand, count in brand_counts.items() if (count <=3 )]\n",
    "\n",
    "# Map single occurrence brands to 'Other'\n",
    "for brand in single_occurrence_brands:\n",
    "    brand_mapping[brand] = 'Other'\n",
    "\n",
    "# Replace inconsistent brand names with the correct ones\n",
    "copy['specs_marque-voiture'].replace(brand_mapping, inplace=True)\n"
   ]
  },
  {
   "cell_type": "code",
   "execution_count": null,
   "metadata": {},
   "outputs": [],
   "source": [
    "# Check the updated value counts\n",
    "print(copy['specs_marque-voiture'].value_counts())"
   ]
  },
  {
   "cell_type": "code",
   "execution_count": null,
   "metadata": {},
   "outputs": [],
   "source": [
    "value_counts = copy['specs_marque-voiture'].value_counts()\n",
    "\n",
    "# Sort the value counts from smallest to largest\n",
    "sorted_value_counts = value_counts.sort_values()\n",
    "\n",
    "# Print the sorted value counts\n",
    "print(sorted_value_counts)\n"
   ]
  },
  {
   "cell_type": "code",
   "execution_count": null,
   "metadata": {},
   "outputs": [],
   "source": [
    "unique_brands = copy['specs_marque-voiture'].unique()\n",
    "\n",
    "# Print the list of unique brands\n",
    "print(unique_brands)"
   ]
  },
  {
   "cell_type": "markdown",
   "metadata": {},
   "source": [
    "# now for the engine"
   ]
  },
  {
   "cell_type": "code",
   "execution_count": null,
   "metadata": {},
   "outputs": [],
   "source": [
    "copy['Engine Capacity'] = copy['specs_car_engine'].str[:3]"
   ]
  },
  {
   "cell_type": "code",
   "execution_count": null,
   "metadata": {},
   "outputs": [],
   "source": [
    "copy['Engine Capacity'] = pd.to_numeric(copy['Engine Capacity'], errors='coerce')\n",
    "copy.loc[copy['Engine Capacity'] > 26, 'Engine Capacity'] = pd.NA\n",
    "\n",
    "# Calculate the mean of the \"Engine Capacity\" column, excluding NaN values\n",
    "mean_value = copy['Engine Capacity'].mean(skipna=True)\n",
    "\n",
    "# Fill NaN values in the \"Engine Capacity\" column with the calculated mean\n",
    "copy['Engine Capacity'].fillna(mean_value, inplace=True)"
   ]
  },
  {
   "cell_type": "code",
   "execution_count": null,
   "metadata": {},
   "outputs": [],
   "source": [
    "print(copy['Engine Capacity'].value_counts())"
   ]
  },
  {
   "cell_type": "code",
   "execution_count": null,
   "metadata": {},
   "outputs": [],
   "source": [
    "copy.columns"
   ]
  },
  {
   "cell_type": "code",
   "execution_count": null,
   "metadata": {},
   "outputs": [],
   "source": [
    "print(copy[['id', 'title', 'price', 'specs_annee', 'specs_car_engine',\n",
    "       'specs_couleur_auto', 'specs_papiers', 'specs_kilometrage',\n",
    "       'specs_marque-voiture', 'specs_modele', 'specs_finition',\n",
    "       'specs_energie', 'specs_boite', 'options','Engine Capacity']].dtypes)"
   ]
  },
  {
   "cell_type": "code",
   "execution_count": null,
   "metadata": {},
   "outputs": [],
   "source": [
    "copy.describe().T"
   ]
  },
  {
   "cell_type": "code",
   "execution_count": null,
   "metadata": {},
   "outputs": [],
   "source": [
    "column_values = copy['specs_car_engine'].dropna()  # Drop NaN values in the column\n",
    "\n",
    "# Initialize an empty list to store the unique strings separated by a space\n",
    "space_separated_strings = []\n",
    "\n",
    "# Iterate over each value in the column\n",
    "for value in column_values:\n",
    "    # Split the value by space\n",
    "    words = value.split()\n",
    "    # Check if there are more than one word (separated by space) in the value\n",
    "    if len(words) > 1:\n",
    "        # Add each separated string to the list (excluding duplicates)\n",
    "        for word in words:\n",
    "            if word not in space_separated_strings:\n",
    "                space_separated_strings.append(word)\n",
    "\n",
    "# Print the list of unique str\n",
    "print(space_separated_strings)"
   ]
  },
  {
   "cell_type": "code",
   "execution_count": null,
   "metadata": {},
   "outputs": [],
   "source": [
    "\n",
    "provided_engine_names = ['HDI', 'TDI', 'VTEC', 'VVTi', 'TSI', 'TFSI', 'ECOBOOST', 'CRDi', 'MPI', 'GDI',\n",
    "                        'V6', 'V8', 'V12', 'Boxer', 'Wankel', 'Rotary', 'Hybrid', 'Turbo', 'Supercharged',\n",
    "                        'Diesel', 'Gasoline', 'Electric', 'Petrol', 'CNG', 'LPG', 'EcoDiesel', 'FlexFuel',\n",
    "                        'Direct Injection', 'Common Rail', 'Variable Valve Timing', 'Variable Valve Lift',\n",
    "                        'Variable Valve Duration', 'Overhead Cam', 'DOHC', 'SOHC', 'OHV', 'Pushrod',\n",
    "                        'Hybrid Synergy Drive', 'SkyActiv', 'BlueHDi', 'BlueMotion', 'eTorque', 'EcoBoost',\n",
    "                        'PureTech', 'EcoTec', 'i-VTEC', 'm-VTEC', 'Dual VVT-i', 'VVT-L', 'Variable Twin Turbo',\n",
    "                        'ess','dci','DCi','Dci','tce','VVTI','tsi','VVTL','4WD','hDi',\"DCI\", \"MPi\", \"4WD\", \"HDI\", \"TDI\", \"VTI\", \"VCDI\", \"BVA\", \"VVT\", \"CDI\",\n",
    "    \"Ecomotive\", \"VVTI\", \"FAP\", \"CH\", \"ESS\", \"CVVT\", \"GPL\", \"CRDI\", \"DSG\",\n",
    "    \"VT\", \"DDTI\", \"SR\", \"DSG6\", \"SR\", \"VT\", \"GDI\", \"TFSI\", \"MPI\", \"HTP\",\n",
    "    \"VVTI\", \"DTR\", \"MT\", \"GPL\", \"CVT\", \"CGI\", \"MZR\", \"DOHC\", \"D-CVVT\",\n",
    "    \"TCI\", \"GTS\", \"CVT\", \"CGI\", \"CDTI\", \"DOHC\", \"D-CVVT\", \"S\", \"TCI\", \"GTS\",\n",
    "    \"TDI\", \"HSE\", \"GDI\", \"HLBMT\", \"SCe\", \"R-Line\", \"ACC\", \"PDC\", \"S-tronic\",\n",
    "    \"SE\", \"TD\", \"RS\", \"FR\",\"DCI\", \"MPi\", \"4WD\", \"HDI\", \"TDI\", \"VTI\", \"VCDI\", \"BVA\", \"VVT\", \"CDI\",\n",
    "    \"Ecomotive\", \"VVTI\", \"FAP\", \"CH\", \"ESS\", \"CVVT\", \"GPL\", \"CRDI\", \"DSG\",\n",
    "    \"VT\", \"DDTI\", \"SR\", \"DSG6\", \"SR\", \"VT\", \"GDI\", \"TFSI\", \"MPI\", \"HTP\",\n",
    "    \"VVTI\", \"DTR\", \"MT\", \"GPL\", \"CVT\", \"CGI\", \"MZR\", \"DOHC\", \"D-CVVT\",\n",
    "    \"TCI\", \"GTS\", \"CVT\", \"CGI\", \"CDTI\", \"DOHC\", \"D-CVVT\", \"S\", \"TCI\", \"GTS\",\n",
    "    \"TDI\", \"HSE\", \"GDI\", \"HLBMT\", \"SCe\", \"R-Line\", \"ACC\", \"PDC\", \"S-tronic\",\n",
    "    \"SE\", \"TD\", \"RS\", \"FR\", \"ESS\",\"DCI\", \"MPi\", \"HDI\", \"TDI\", \"VTI\", \"VCDI\", \"VVT\", \"Ecomotive\", \"VVTI\", \"FAP\",\n",
    "    \"Quattro\", \"E-XDI\", \"GTI\", \"AMG\", \"4MATIC\", \"HTP\", \"VM\", \"DSG\", \"S90\", \"DDTI\",\n",
    "    \"GT\", \"MPI\", \"S-Tronic\", \"BVM\", \"DDI\", \"CRDI\", \"DSG6\", \"SR\", \"D4D\", \"PDK\",\n",
    "    \"TFSI\", \"TS\", \"CGI\", \"CDI\", \"CVT\", \"MZR\", \"DOHC\", \"GTS\", \"V8\", \"TCI\", \"TCE\",\n",
    "    \"VCT\", \"GTD\", \"Om\", \"CV\", \"AWD\", \"STD\", \"GPL\", \"VMAX\", \"DLX\", \"D4\", \"Mjet\",\n",
    "    \"CD\", \"DI-D\", \"VTEC\", \"XLI\", \"MHD\", \"TDI2.0\", \"GDI\", \"STT\", \"SE\", \"EFI\",\n",
    "    \"V6\", \"Matic\", \"TDI177\", \"DTEC\", \"S&S\", \"CVVT\", \"DCI\", \"TDI\", \"ess\", \"TDI\",\n",
    "    \"E-DGI\", \"GDI\", \"MPI\", \"ess\", \"GDI\", \"MPI\", \"HTP\", \"HDI\", \"HT\", \"FSI\", \"GDI\",\n",
    "    \"MPI\", \"GDI\", \"TDI\"]\n",
    "unique_names = list(set(provided_engine_names))\n",
    "print(unique_names)\n",
    " \n",
    "names=[ 'AWD', 'BlueHDi', 'CRDi', 'CDTI', 'DCi', 'DDTI', 'DCI', 'D-CVVT', 'DSG6', 'EcoDiesel', \n",
    "    'EcoTec', 'EcoBoost', 'Ecomotive', 'E-GDI', 'Electric', 'E-XDI', 'FlexFuel', 'GDI', 'GTD', \n",
    "    'GTI', 'Gasoline', 'HTP', 'HLBMT', 'HDI', 'HSE', 'Hybrid', 'Hybrid Synergy Drive', 'MPI', \n",
    "    'Matic', 'MHD', 'Mjet', 'MT', 'OHV', 'Om', 'PDK', 'PDC', 'PureTech', 'Petrol', 'Quattro', \n",
    "    'R-Line', 'Rotary', 'S-Tronic', 'S&S', 'SCe', 'STD', 'SR', 'SkyActiv', 'S90', 'SOHC', \n",
    "    'S-tronic', 'Supercharged', 'TSI', 'TDI2.0', 'TDI177', 'TDI', 'TFSI', 'TCE', 'TCI', 'TS', \n",
    "    'VVT-L', 'VVTL', 'Variable Twin Turbo', 'Variable Valve Timing', 'Variable Valve Lift', \n",
    "    'Variable Valve Duration', 'VMAX', 'VVTi', 'VVTI', 'VVT', 'VTEC', 'VCT', 'VCDI', 'VTI', \n",
    "    'VT', 'VT', 'Wankel', 'XLI', 'ess', 'ess', 'tce', 'tsi', 'ess', 'CDI', 'CVT', 'CVVT', 'CH', \n",
    "    'CRDI', 'CD', 'DDI', 'DTR', 'DTEC', 'DOHC', 'DLX', 'Dci', 'Dci', 'Dci', 'D4D', 'D4', 'EFI', \n",
    "    'ECOBOOST', 'GPL', 'GTS', 'GT', 'GDI', 'GDI', 'MPi', 'MPi', 'MZR', 'S', 'SE', 'SR', 'TCE', \n",
    "    'TD', 'V12', 'V8', 'V6', 'V4', 'V2', 'V', 'DCI', 'DCI', 'DCI', '4WD', '4MATIC', 'STD', 'TS', \n",
    "    'SR', 'VT', 'VT', 'VT', 'VCDI', 'VTI', 'VTEC', 'VMAX', 'VVT', 'VVTI', 'VVT-L', 'VVTi', 'VVTI', \n",
    "    'VVTL']\n"
   ]
  },
  {
   "cell_type": "code",
   "execution_count": null,
   "metadata": {},
   "outputs": [],
   "source": [
    "# Assuming engine_types is the list of engine types\n",
    "sorted_engine_types = sorted(unique_names, key=len, reverse=True)\n",
    "\n",
    "# Print the sorted list of engine types\n",
    "print(sorted_engine_types)"
   ]
  },
  {
   "cell_type": "code",
   "execution_count": null,
   "metadata": {},
   "outputs": [],
   "source": [
    "# Assuming 'copy' is the name of your DataFrame and 'specs_car_engine' is the name of the column\n",
    "# Replace 'specs_car_engine' with the actual name of your column\n",
    "copy['Engine_Name_Match'] = copy['specs_car_engine'].apply(lambda x: next((engine for engine in sorted_engine_types if isinstance(x, str) and engine.lower() in x.lower()), pd.NA))\n",
    "\n",
    "# Display the DataFrame with the new column\n",
    "print(copy)"
   ]
  },
  {
   "cell_type": "code",
   "execution_count": null,
   "metadata": {},
   "outputs": [],
   "source": [
    "print(copy['Engine_Name_Match'].value_counts())"
   ]
  },
  {
   "cell_type": "code",
   "execution_count": null,
   "metadata": {},
   "outputs": [],
   "source": [
    "pd.set_option('display.max_rows', None)\n",
    "\n",
    "# Print the entire series\n",
    "print(copy['Engine_Name_Match'].value_counts())"
   ]
  },
  {
   "cell_type": "code",
   "execution_count": null,
   "metadata": {},
   "outputs": [],
   "source": [
    "num_types = copy['Engine_Name_Match'].value_counts().nunique()\n",
    "print(\"The number of unique types is:\", num_types)"
   ]
  },
  {
   "cell_type": "code",
   "execution_count": null,
   "metadata": {},
   "outputs": [],
   "source": [
    "# Fill missing values with a placeholder string\n",
    "copy['Engine_Name_Match'] = copy['Engine_Name_Match'].fillna('missing')\n",
    "\n",
    "# Fit the LabelEncoder to the engine names and transform them into numerical labels\n",
    "encoded_labels = label_encoder.fit_transform(copy['Engine_Name_Match'])\n",
    "\n",
    "# Print the encoded labels\n",
    "print(\"Encoded labels:\", encoded_labels)\n",
    "\n",
    "# Print the mapping between original labels and encoded labels\n",
    "label_mapping = dict(zip(label_encoder.classes_, range(len(label_encoder.classes_))))\n",
    "print(\"Label mapping:\", label_mapping)\n"
   ]
  },
  {
   "cell_type": "code",
   "execution_count": null,
   "metadata": {},
   "outputs": [],
   "source": [
    "encoded_labels_int = encoded_labels.astype(int)\n",
    "\n",
    "# Replace the column in the DataFrame with the integer encoded labels\n",
    "copy['Engine_Name_Match'] = encoded_labels_int\n",
    "\n",
    "# Verify the changes\n",
    "print(copy['Engine_Name_Match'].dtype)"
   ]
  },
  {
   "cell_type": "code",
   "execution_count": null,
   "metadata": {},
   "outputs": [],
   "source": [
    "total_sum = copy['Engine_Name_Match'].value_counts().sum()\n",
    "print(\"The sum of counts is:\", total_sum)"
   ]
  },
  {
   "cell_type": "markdown",
   "metadata": {},
   "source": [
    "# now for the horse power"
   ]
  },
  {
   "cell_type": "code",
   "execution_count": null,
   "metadata": {},
   "outputs": [],
   "source": [
    "horsepower_values=[90, 92, 75, 72, 110, 80, 102, 143, 85, 38, 65, 140, 103, \n",
    "                   100, 68, 84, 94, 250, 204, 112, 55, 171, 105, 115, 99\n",
    "                   , 425, 130, 91, 34, 83, 71, 95, 60, 70, 120, 109, 177, 200, 82, 69, 63, 53, 127, 174, 170, 184, \n",
    "                   190, 85, 197, 128, 46, 78, 98, 136, 123, 155, 129, 81, 107, 360, 200, 97, 95, 176, 96,\n",
    "                    245, 210, 88, 125, 86, 113, 52, 163, 58, 140, 245, 160, 300, 114, 64, 93, 117, 185, 62, 200, 104, 54, 138, 122]"
   ]
  },
  {
   "cell_type": "code",
   "execution_count": null,
   "metadata": {},
   "outputs": [],
   "source": [
    "def extract_horsepower(spec):\n",
    "    # Convert spec to string\n",
    "    spec_str = str(spec)\n",
    "    for hp in horsepower_values:\n",
    "        # Convert hp to string for comparison\n",
    "        hp_str = str(hp)\n",
    "        if hp_str in spec_str:\n",
    "            return hp\n",
    "    return None\n",
    "\n",
    "# Create the 'horsepower' column by applying the function to the 'specs_car_engine' column\n",
    "copy['horsepower'] = copy['specs_car_engine'].apply(extract_horsepower)\n",
    "\n",
    "# Display the DataFrame with the new 'horsepower' column\n",
    "print(copy)"
   ]
  },
  {
   "cell_type": "code",
   "execution_count": null,
   "metadata": {},
   "outputs": [],
   "source": [
    "mean_horsepower = copy['horsepower'].mean()\n",
    "\n",
    "# Fill missing values with the mean\n",
    "copy['horsepower'].fillna(mean_horsepower, inplace=True)\n",
    "\n",
    "# Display the DataFrame with the new 'horsepower' column\n",
    "print(copy)"
   ]
  },
  {
   "cell_type": "markdown",
   "metadata": {},
   "source": [
    "# now for the kilometrage"
   ]
  },
  {
   "cell_type": "code",
   "execution_count": null,
   "metadata": {},
   "outputs": [],
   "source": [
    "copy.loc[copy['specs_kilometrage'] < 999, 'specs_kilometrage'] *= 1000"
   ]
  },
  {
   "cell_type": "code",
   "execution_count": null,
   "metadata": {},
   "outputs": [],
   "source": [
    "def divide_until_less_than_999999(value):\n",
    "    value = abs(value)\n",
    "\n",
    "    # Divide the value by 10 until it becomes less than 999999\n",
    "    while value >= 999999:\n",
    "        value /= 10\n",
    "    return value\n"
   ]
  },
  {
   "cell_type": "code",
   "execution_count": null,
   "metadata": {},
   "outputs": [],
   "source": [
    "copy['specs_kilometrage']=copy['specs_kilometrage'].apply(divide_until_less_than_999999)"
   ]
  },
  {
   "cell_type": "code",
   "execution_count": null,
   "metadata": {},
   "outputs": [],
   "source": [
    "copy['specs_kilometrage'] = copy['specs_kilometrage'].abs()"
   ]
  },
  {
   "cell_type": "code",
   "execution_count": null,
   "metadata": {},
   "outputs": [],
   "source": [
    "copy.loc[(copy['specs_kilometrage'] >= 1000) & (copy['specs_kilometrage'] <= 9999), 'specs_kilometrage'] = np.nan"
   ]
  },
  {
   "cell_type": "code",
   "execution_count": null,
   "metadata": {},
   "outputs": [],
   "source": [
    "# Display the DataFrame with updated 'specs_kilometrage' column\n",
    "print(copy['specs_kilometrage'])"
   ]
  },
  {
   "cell_type": "code",
   "execution_count": null,
   "metadata": {},
   "outputs": [],
   "source": [
    "copy.describe()"
   ]
  },
  {
   "cell_type": "markdown",
   "metadata": {},
   "source": [
    "# LIST OF THINGS TO DO (hadawin fe9t bli kount 9adra nekteb to do list XD)\n",
    "- for the title i dont think i can do somthing ill just remove it since its combaining between model finition and marque ig\n",
    "- i wanna first of aaall remove the rows that doesnt contain \" price - kilo - anne \" these triplet is so important \n",
    "- the price\n",
    "- anne        ☑☑\n",
    "- engine      ☑     (ill see if ill remove it or not)\n",
    "- color       ☑     (i wanna optimize it)\n",
    "- papier      ☑☑\n",
    "- kilometrage ☑\n",
    "- marque      \n",
    "- model\n",
    "- finition\n",
    "- energie     ☑\n",
    "- boite       ☑ \n",
    "- options     ☑☑\n",
    "- 'Engine Capacity','Engine_Name_Match', 'horsepower'"
   ]
  },
  {
   "cell_type": "code",
   "execution_count": null,
   "metadata": {},
   "outputs": [],
   "source": [
    "copy.columns"
   ]
  },
  {
   "cell_type": "code",
   "execution_count": null,
   "metadata": {},
   "outputs": [],
   "source": [
    "print(copy[['id', 'title', 'price', 'specs_annee', 'specs_car_engine',\n",
    "       'specs_couleur_auto', 'specs_papiers', 'specs_kilometrage',\n",
    "       'specs_marque-voiture', 'specs_modele', 'specs_finition',\n",
    "       'specs_energie', 'specs_boite', 'options', 'Engine Capacity',\n",
    "       'Engine_Name_Match','horsepower']].dtypes)"
   ]
  },
  {
   "cell_type": "code",
   "execution_count": null,
   "metadata": {},
   "outputs": [],
   "source": [
    "print(copy.columns)\n",
    "copy.isnull().sum()"
   ]
  }
 ],
 "metadata": {
  "kernelspec": {
   "display_name": "base",
   "language": "python",
   "name": "python3"
  },
  "language_info": {
   "codemirror_mode": {
    "name": "ipython",
    "version": 3
   },
   "file_extension": ".py",
   "mimetype": "text/x-python",
   "name": "python",
   "nbconvert_exporter": "python",
   "pygments_lexer": "ipython3",
   "version": "3.11.7"
  }
 },
 "nbformat": 4,
 "nbformat_minor": 2
}
