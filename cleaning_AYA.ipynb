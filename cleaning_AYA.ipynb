{
 "cells": [
  {
   "cell_type": "code",
   "execution_count": 135,
   "metadata": {},
   "outputs": [],
   "source": [
    "import numpy as np\n",
    "import pandas as pd\n",
    "import matplotlib.pyplot as plt\n",
    "import seaborn as sns\n",
    "\n",
    "from sklearn.preprocessing import StandardScaler\n",
    "from sklearn.model_selection import train_test_split,GridSearchCV\n",
    "from sklearn import metrics\n",
    "\n",
    "from sklearn.neighbors import KNeighborsClassifier #knn\n",
    "from sklearn.linear_model import LogisticRegression\n",
    "from sklearn.metrics import accuracy_score\n",
    "from sklearn.tree import DecisionTreeClassifier"
   ]
  },
  {
   "cell_type": "code",
   "execution_count": 136,
   "metadata": {},
   "outputs": [],
   "source": [
    "from sklearn.preprocessing import LabelEncoder"
   ]
  },
  {
   "cell_type": "code",
   "execution_count": 137,
   "metadata": {},
   "outputs": [],
   "source": [
    "data= pd.read_csv(\"C:\\\\Users\\\\MASSIVE\\\\Price-Predictor-ML-\\\\final.csv\")"
   ]
  },
  {
   "cell_type": "code",
   "execution_count": 138,
   "metadata": {},
   "outputs": [
    {
     "name": "stdout",
     "output_type": "stream",
     "text": [
      "Index(['id', 'title', 'price', 'specs_annee', 'specs_car_engine',\n",
      "       'specs_couleur_auto', 'specs_papiers', 'specs_kilometrage',\n",
      "       'specs_marque-voiture', 'specs_modele', 'specs_finition',\n",
      "       'specs_energie', 'specs_boite', 'option0', 'option1', 'option2',\n",
      "       'option3', 'option4', 'option5', 'option6', 'option7', 'option8',\n",
      "       'option9', 'option10', 'option11', 'option12', 'option13'],\n",
      "      dtype='object')\n"
     ]
    },
    {
     "data": {
      "text/plain": [
       "id                          0\n",
       "title                       0\n",
       "price                       0\n",
       "specs_annee                 0\n",
       "specs_car_engine         9798\n",
       "specs_couleur_auto       2494\n",
       "specs_papiers            4024\n",
       "specs_kilometrage        4661\n",
       "specs_marque-voiture        0\n",
       "specs_modele                1\n",
       "specs_finition          18647\n",
       "specs_energie           92547\n",
       "specs_boite             92547\n",
       "option0                 17057\n",
       "option1                 21209\n",
       "option2                 23907\n",
       "option3                 26781\n",
       "option4                 29897\n",
       "option5                 33568\n",
       "option6                 37328\n",
       "option7                 41555\n",
       "option8                 46047\n",
       "option9                 50978\n",
       "option10                56118\n",
       "option11                61725\n",
       "option12                68319\n",
       "option13                77359\n",
       "dtype: int64"
      ]
     },
     "execution_count": 138,
     "metadata": {},
     "output_type": "execute_result"
    }
   ],
   "source": [
    "print(data.columns)\n",
    "data.isnull().sum()"
   ]
  },
  {
   "cell_type": "code",
   "execution_count": 139,
   "metadata": {},
   "outputs": [
    {
     "data": {
      "text/html": [
       "<div>\n",
       "<style scoped>\n",
       "    .dataframe tbody tr th:only-of-type {\n",
       "        vertical-align: middle;\n",
       "    }\n",
       "\n",
       "    .dataframe tbody tr th {\n",
       "        vertical-align: top;\n",
       "    }\n",
       "\n",
       "    .dataframe thead th {\n",
       "        text-align: right;\n",
       "    }\n",
       "</style>\n",
       "<table border=\"1\" class=\"dataframe\">\n",
       "  <thead>\n",
       "    <tr style=\"text-align: right;\">\n",
       "      <th></th>\n",
       "      <th>id</th>\n",
       "      <th>price</th>\n",
       "      <th>specs_annee</th>\n",
       "      <th>specs_energie</th>\n",
       "      <th>specs_boite</th>\n",
       "    </tr>\n",
       "  </thead>\n",
       "  <tbody>\n",
       "    <tr>\n",
       "      <th>count</th>\n",
       "      <td>9.254700e+04</td>\n",
       "      <td>9.254700e+04</td>\n",
       "      <td>92547.000000</td>\n",
       "      <td>0.0</td>\n",
       "      <td>0.0</td>\n",
       "    </tr>\n",
       "    <tr>\n",
       "      <th>mean</th>\n",
       "      <td>3.812892e+07</td>\n",
       "      <td>1.203689e+17</td>\n",
       "      <td>2012.852723</td>\n",
       "      <td>NaN</td>\n",
       "      <td>NaN</td>\n",
       "    </tr>\n",
       "    <tr>\n",
       "      <th>std</th>\n",
       "      <td>3.494813e+06</td>\n",
       "      <td>3.307373e+19</td>\n",
       "      <td>8.425591</td>\n",
       "      <td>NaN</td>\n",
       "      <td>NaN</td>\n",
       "    </tr>\n",
       "    <tr>\n",
       "      <th>min</th>\n",
       "      <td>5.065853e+06</td>\n",
       "      <td>0.000000e+00</td>\n",
       "      <td>1922.000000</td>\n",
       "      <td>NaN</td>\n",
       "      <td>NaN</td>\n",
       "    </tr>\n",
       "    <tr>\n",
       "      <th>25%</th>\n",
       "      <td>3.731984e+07</td>\n",
       "      <td>3.000000e+04</td>\n",
       "      <td>2010.000000</td>\n",
       "      <td>NaN</td>\n",
       "      <td>NaN</td>\n",
       "    </tr>\n",
       "    <tr>\n",
       "      <th>50%</th>\n",
       "      <td>3.892210e+07</td>\n",
       "      <td>1.330000e+06</td>\n",
       "      <td>2014.000000</td>\n",
       "      <td>NaN</td>\n",
       "      <td>NaN</td>\n",
       "    </tr>\n",
       "    <tr>\n",
       "      <th>75%</th>\n",
       "      <td>4.049664e+07</td>\n",
       "      <td>3.000000e+06</td>\n",
       "      <td>2019.000000</td>\n",
       "      <td>NaN</td>\n",
       "      <td>NaN</td>\n",
       "    </tr>\n",
       "    <tr>\n",
       "      <th>max</th>\n",
       "      <td>4.114435e+07</td>\n",
       "      <td>1.000000e+22</td>\n",
       "      <td>2024.000000</td>\n",
       "      <td>NaN</td>\n",
       "      <td>NaN</td>\n",
       "    </tr>\n",
       "  </tbody>\n",
       "</table>\n",
       "</div>"
      ],
      "text/plain": [
       "                 id         price   specs_annee  specs_energie  specs_boite\n",
       "count  9.254700e+04  9.254700e+04  92547.000000            0.0          0.0\n",
       "mean   3.812892e+07  1.203689e+17   2012.852723            NaN          NaN\n",
       "std    3.494813e+06  3.307373e+19      8.425591            NaN          NaN\n",
       "min    5.065853e+06  0.000000e+00   1922.000000            NaN          NaN\n",
       "25%    3.731984e+07  3.000000e+04   2010.000000            NaN          NaN\n",
       "50%    3.892210e+07  1.330000e+06   2014.000000            NaN          NaN\n",
       "75%    4.049664e+07  3.000000e+06   2019.000000            NaN          NaN\n",
       "max    4.114435e+07  1.000000e+22   2024.000000            NaN          NaN"
      ]
     },
     "execution_count": 139,
     "metadata": {},
     "output_type": "execute_result"
    }
   ],
   "source": [
    "data.describe()"
   ]
  },
  {
   "cell_type": "code",
   "execution_count": 140,
   "metadata": {},
   "outputs": [],
   "source": [
    "df_sans_redondance = data.drop_duplicates(subset=['title', 'price', 'specs_annee', 'specs_car_engine',\n",
    "       'specs_couleur_auto', 'specs_papiers', 'specs_kilometrage',\n",
    "       'specs_marque-voiture', 'specs_modele', 'specs_finition',\n",
    "       'specs_energie', 'specs_boite', 'option0', 'option1', 'option2',\n",
    "       'option3', 'option4', 'option5', 'option6', 'option7', 'option8',\n",
    "       'option9', 'option10', 'option11', 'option12', 'option13'])"
   ]
  },
  {
   "cell_type": "code",
   "execution_count": 141,
   "metadata": {},
   "outputs": [
    {
     "data": {
      "text/html": [
       "<div>\n",
       "<style scoped>\n",
       "    .dataframe tbody tr th:only-of-type {\n",
       "        vertical-align: middle;\n",
       "    }\n",
       "\n",
       "    .dataframe tbody tr th {\n",
       "        vertical-align: top;\n",
       "    }\n",
       "\n",
       "    .dataframe thead th {\n",
       "        text-align: right;\n",
       "    }\n",
       "</style>\n",
       "<table border=\"1\" class=\"dataframe\">\n",
       "  <thead>\n",
       "    <tr style=\"text-align: right;\">\n",
       "      <th></th>\n",
       "      <th>id</th>\n",
       "      <th>price</th>\n",
       "      <th>specs_annee</th>\n",
       "      <th>specs_energie</th>\n",
       "      <th>specs_boite</th>\n",
       "    </tr>\n",
       "  </thead>\n",
       "  <tbody>\n",
       "    <tr>\n",
       "      <th>count</th>\n",
       "      <td>8.165100e+04</td>\n",
       "      <td>8.165100e+04</td>\n",
       "      <td>81651.000000</td>\n",
       "      <td>0.0</td>\n",
       "      <td>0.0</td>\n",
       "    </tr>\n",
       "    <tr>\n",
       "      <th>mean</th>\n",
       "      <td>3.801315e+07</td>\n",
       "      <td>1.364176e+17</td>\n",
       "      <td>2012.781178</td>\n",
       "      <td>NaN</td>\n",
       "      <td>NaN</td>\n",
       "    </tr>\n",
       "    <tr>\n",
       "      <th>std</th>\n",
       "      <td>3.610755e+06</td>\n",
       "      <td>3.521142e+19</td>\n",
       "      <td>8.432619</td>\n",
       "      <td>NaN</td>\n",
       "      <td>NaN</td>\n",
       "    </tr>\n",
       "    <tr>\n",
       "      <th>min</th>\n",
       "      <td>5.065853e+06</td>\n",
       "      <td>0.000000e+00</td>\n",
       "      <td>1922.000000</td>\n",
       "      <td>NaN</td>\n",
       "      <td>NaN</td>\n",
       "    </tr>\n",
       "    <tr>\n",
       "      <th>25%</th>\n",
       "      <td>3.725727e+07</td>\n",
       "      <td>3.000000e+04</td>\n",
       "      <td>2009.000000</td>\n",
       "      <td>NaN</td>\n",
       "      <td>NaN</td>\n",
       "    </tr>\n",
       "    <tr>\n",
       "      <th>50%</th>\n",
       "      <td>3.878533e+07</td>\n",
       "      <td>1.310000e+06</td>\n",
       "      <td>2014.000000</td>\n",
       "      <td>NaN</td>\n",
       "      <td>NaN</td>\n",
       "    </tr>\n",
       "    <tr>\n",
       "      <th>75%</th>\n",
       "      <td>4.046485e+07</td>\n",
       "      <td>3.000000e+06</td>\n",
       "      <td>2019.000000</td>\n",
       "      <td>NaN</td>\n",
       "      <td>NaN</td>\n",
       "    </tr>\n",
       "    <tr>\n",
       "      <th>max</th>\n",
       "      <td>4.114435e+07</td>\n",
       "      <td>1.000000e+22</td>\n",
       "      <td>2024.000000</td>\n",
       "      <td>NaN</td>\n",
       "      <td>NaN</td>\n",
       "    </tr>\n",
       "  </tbody>\n",
       "</table>\n",
       "</div>"
      ],
      "text/plain": [
       "                 id         price   specs_annee  specs_energie  specs_boite\n",
       "count  8.165100e+04  8.165100e+04  81651.000000            0.0          0.0\n",
       "mean   3.801315e+07  1.364176e+17   2012.781178            NaN          NaN\n",
       "std    3.610755e+06  3.521142e+19      8.432619            NaN          NaN\n",
       "min    5.065853e+06  0.000000e+00   1922.000000            NaN          NaN\n",
       "25%    3.725727e+07  3.000000e+04   2009.000000            NaN          NaN\n",
       "50%    3.878533e+07  1.310000e+06   2014.000000            NaN          NaN\n",
       "75%    4.046485e+07  3.000000e+06   2019.000000            NaN          NaN\n",
       "max    4.114435e+07  1.000000e+22   2024.000000            NaN          NaN"
      ]
     },
     "execution_count": 141,
     "metadata": {},
     "output_type": "execute_result"
    }
   ],
   "source": [
    "df_sans_redondance.describe()"
   ]
  },
  {
   "cell_type": "code",
   "execution_count": 142,
   "metadata": {},
   "outputs": [],
   "source": [
    "copy=df_sans_redondance.copy()"
   ]
  },
  {
   "cell_type": "code",
   "execution_count": 143,
   "metadata": {},
   "outputs": [],
   "source": [
    "# Create a new column named 'new_options' and initialize it with 0\n",
    "copy['options'] = 0\n",
    "\n",
    "# Iterate over each row\n",
    "for index, row in copy.iterrows():\n",
    "    options_count = 0\n",
    "    # Count options from option0 to option13\n",
    "    for i in range(14):\n",
    "        option_col = f'option{i}'\n",
    "        if not pd.isnull(row[option_col]):\n",
    "            options_count += 1\n",
    "    # Store the count of options in the 'new_options' column\n",
    "    copy.at[index, 'options'] = options_count"
   ]
  },
  {
   "cell_type": "code",
   "execution_count": 144,
   "metadata": {},
   "outputs": [
    {
     "data": {
      "text/plain": [
       "Index(['id', 'title', 'price', 'specs_annee', 'specs_car_engine',\n",
       "       'specs_couleur_auto', 'specs_papiers', 'specs_kilometrage',\n",
       "       'specs_marque-voiture', 'specs_modele', 'specs_finition',\n",
       "       'specs_energie', 'specs_boite', 'option0', 'option1', 'option2',\n",
       "       'option3', 'option4', 'option5', 'option6', 'option7', 'option8',\n",
       "       'option9', 'option10', 'option11', 'option12', 'option13', 'options'],\n",
       "      dtype='object')"
      ]
     },
     "execution_count": 144,
     "metadata": {},
     "output_type": "execute_result"
    }
   ],
   "source": [
    "copy.columns"
   ]
  },
  {
   "cell_type": "code",
   "execution_count": 145,
   "metadata": {},
   "outputs": [
    {
     "data": {
      "text/plain": [
       "<bound method IndexOpsMixin.value_counts of 0         0\n",
       "1         1\n",
       "2         7\n",
       "3        11\n",
       "4         0\n",
       "         ..\n",
       "92542    14\n",
       "92543    14\n",
       "92544     0\n",
       "92545     7\n",
       "92546    10\n",
       "Name: options, Length: 81651, dtype: int64>"
      ]
     },
     "execution_count": 145,
     "metadata": {},
     "output_type": "execute_result"
    }
   ],
   "source": [
    "copy['options'].value_counts"
   ]
  },
  {
   "cell_type": "code",
   "execution_count": 146,
   "metadata": {},
   "outputs": [],
   "source": [
    "copy.drop(['option0', 'option1', 'option2',\n",
    "       'option3', 'option4', 'option5', 'option6', 'option7', 'option8',\n",
    "       'option9', 'option10', 'option11', 'option12', 'option13'], axis=1,inplace=True)"
   ]
  },
  {
   "cell_type": "code",
   "execution_count": 147,
   "metadata": {},
   "outputs": [
    {
     "data": {
      "text/plain": [
       "Index(['id', 'title', 'price', 'specs_annee', 'specs_car_engine',\n",
       "       'specs_couleur_auto', 'specs_papiers', 'specs_kilometrage',\n",
       "       'specs_marque-voiture', 'specs_modele', 'specs_finition',\n",
       "       'specs_energie', 'specs_boite', 'options'],\n",
       "      dtype='object')"
      ]
     },
     "execution_count": 147,
     "metadata": {},
     "output_type": "execute_result"
    }
   ],
   "source": [
    "copy.columns"
   ]
  },
  {
   "cell_type": "code",
   "execution_count": 148,
   "metadata": {},
   "outputs": [
    {
     "name": "stdout",
     "output_type": "stream",
     "text": [
      "id                        int64\n",
      "title                    object\n",
      "price                   float64\n",
      "specs_annee               int64\n",
      "specs_car_engine         object\n",
      "specs_couleur_auto       object\n",
      "specs_papiers            object\n",
      "specs_kilometrage        object\n",
      "specs_marque-voiture     object\n",
      "specs_modele             object\n",
      "specs_finition           object\n",
      "specs_energie           float64\n",
      "specs_boite             float64\n",
      "dtype: object\n"
     ]
    }
   ],
   "source": [
    "print(copy[['id', 'title', 'price', 'specs_annee', 'specs_car_engine',\n",
    "       'specs_couleur_auto', 'specs_papiers', 'specs_kilometrage',\n",
    "       'specs_marque-voiture', 'specs_modele', 'specs_finition',\n",
    "       'specs_energie', 'specs_boite']].dtypes)"
   ]
  },
  {
   "cell_type": "code",
   "execution_count": 149,
   "metadata": {},
   "outputs": [],
   "source": [
    "copy['specs_kilometrage'] = pd.to_numeric(copy['specs_kilometrage'].str.replace('km', ''), errors='coerce')"
   ]
  },
  {
   "cell_type": "code",
   "execution_count": 150,
   "metadata": {},
   "outputs": [],
   "source": [
    "copy['specs_annee'] = pd.to_numeric(copy['specs_annee'],errors='coerce')\n",
    "copy['price'] = pd.to_numeric(copy['price'],errors='coerce')"
   ]
  },
  {
   "cell_type": "code",
   "execution_count": 151,
   "metadata": {},
   "outputs": [
    {
     "data": {
      "text/plain": [
       "Series([], Name: count, dtype: int64)"
      ]
     },
     "execution_count": 151,
     "metadata": {},
     "output_type": "execute_result"
    }
   ],
   "source": [
    "copy['specs_boite'].value_counts()"
   ]
  },
  {
   "cell_type": "code",
   "execution_count": 152,
   "metadata": {},
   "outputs": [
    {
     "name": "stdout",
     "output_type": "stream",
     "text": [
      "Number of null values: 81651\n",
      "Unique values: [nan]\n"
     ]
    }
   ],
   "source": [
    "# Check for null values in the 'specs_energie' column\n",
    "null_count = copy['specs_boite'].isnull().sum()\n",
    "print(\"Number of null values:\", null_count)\n",
    "\n",
    "# Display unique values in the 'specs_energie' column\n",
    "unique_values = copy['specs_boite'].unique()\n",
    "print(\"Unique values:\", unique_values)\n"
   ]
  },
  {
   "cell_type": "code",
   "execution_count": 153,
   "metadata": {},
   "outputs": [
    {
     "name": "stdout",
     "output_type": "stream",
     "text": [
      "specs_papiers\n",
      "1.0    73676\n",
      "2.0     2875\n",
      "3.0     1527\n",
      "Name: count, dtype: int64\n"
     ]
    }
   ],
   "source": [
    "copy['specs_papiers'] = copy['specs_papiers'].replace({\n",
    "    'Carte grise / safia': 1,\n",
    "    'Licence / Délai': 2,\n",
    "    'Carte jaune': 3,\n",
    "})\n",
    "\n",
    "# Display the resulting DataFrame\n",
    "print(copy['specs_papiers'].value_counts())"
   ]
  },
  {
   "cell_type": "code",
   "execution_count": 154,
   "metadata": {},
   "outputs": [
    {
     "name": "stdout",
     "output_type": "stream",
     "text": [
      "id                        int64\n",
      "title                    object\n",
      "price                   float64\n",
      "specs_annee               int64\n",
      "specs_car_engine         object\n",
      "specs_couleur_auto       object\n",
      "specs_papiers           float64\n",
      "specs_kilometrage       float64\n",
      "specs_marque-voiture     object\n",
      "specs_modele             object\n",
      "specs_finition           object\n",
      "specs_energie           float64\n",
      "specs_boite             float64\n",
      "options                   int64\n",
      "dtype: object\n"
     ]
    }
   ],
   "source": [
    "print(copy[['id', 'title', 'price', 'specs_annee', 'specs_car_engine',\n",
    "       'specs_couleur_auto', 'specs_papiers', 'specs_kilometrage',\n",
    "       'specs_marque-voiture', 'specs_modele', 'specs_finition',\n",
    "       'specs_energie', 'specs_boite', 'options']].dtypes)"
   ]
  },
  {
   "cell_type": "code",
   "execution_count": 155,
   "metadata": {},
   "outputs": [],
   "source": [
    "label_encoder = LabelEncoder()\n",
    "copy['specs_couleur_auto'] = label_encoder.fit_transform(copy['specs_couleur_auto'])"
   ]
  },
  {
   "cell_type": "code",
   "execution_count": 156,
   "metadata": {},
   "outputs": [
    {
     "data": {
      "text/plain": [
       "specs_marque-voiture\n",
       "Renault                  14962\n",
       "Peugeot                  10856\n",
       "Volkswagen                9256\n",
       "Hyundai                   4875\n",
       "Seat                      4394\n",
       "                         ...  \n",
       "Renault laguna               1\n",
       "Dacia stpway sandero         1\n",
       "Fiat une                     1\n",
       "Renu kongo                   1\n",
       "Ds7                          1\n",
       "Name: count, Length: 634, dtype: int64"
      ]
     },
     "execution_count": 156,
     "metadata": {},
     "output_type": "execute_result"
    }
   ],
   "source": [
    "copy['specs_marque-voiture'].value_counts()"
   ]
  },
  {
   "cell_type": "code",
   "execution_count": 157,
   "metadata": {},
   "outputs": [],
   "source": [
    "# Mapping dictionary to standardize brand names\n",
    "brand_mapping = {\n",
    "    'Renault laguna': 'Renault','رنوا': 'Renault','R4': 'Renault','Renu kongo':'Renault',\n",
    "    'Dacia stpway sandero': 'Dacia','Dacia stpway sandero':'Dacia','Dacia stpway sandero':'Dacia',\n",
    "    'Fiat une': 'Fiat','FIAT TIPO': 'Fiat',\n",
    "    'Renu kongo': 'Renault','كليو': 'Renault',\n",
    "    'Ds7': 'DS Automobiles',\n",
    "    'Picanto' : 'Kia','Kia  sportage': 'Kia',\n",
    "    'Ikco': 'Other',  # Correcting 'Ikco' to 'Other' (assuming it's not a valid brand)\n",
    "    'chevroli': 'Chevrolet',  # Correcting 'chevroli' to 'Chevrolet'\n",
    "    'Cheri': 'Chery','chiri': 'Chery',  # Correcting 'Cheri' to 'Chery'\n",
    "    'DS Automobiles': 'DS' ,\n",
    "    'ايبيزا 2015 2 بورت': 'Seat',\n",
    "    'bmw e36':'BMW',\n",
    "    'Picasso':'Citroen'\n",
    "}\n",
    "\n",
    "# Replace inconsistent brand names with the correct ones\n",
    "copy['specs_marque-voiture'].replace(brand_mapping, inplace=True)"
   ]
  },
  {
   "cell_type": "code",
   "execution_count": 158,
   "metadata": {},
   "outputs": [
    {
     "name": "stdout",
     "output_type": "stream",
     "text": [
      "specs_marque-voiture\n",
      "Renault           14966\n",
      "Peugeot           10856\n",
      "Volkswagen         9256\n",
      "Hyundai            4875\n",
      "Seat               4395\n",
      "                  ...  \n",
      "clio 3                1\n",
      "Picanto               1\n",
      "Other                 1\n",
      "FISPA                 1\n",
      "DS Automobiles        1\n",
      "Name: count, Length: 620, dtype: int64\n"
     ]
    }
   ],
   "source": [
    "# Check the updated value counts\n",
    "print(copy['specs_marque-voiture'].value_counts())"
   ]
  },
  {
   "cell_type": "code",
   "execution_count": 159,
   "metadata": {},
   "outputs": [
    {
     "name": "stdout",
     "output_type": "stream",
     "text": [
      "['Dacia' 'Seat' 'Kia' 'Nissan' 'Volkswagen' 'Peugeot' 'Fiat' 'Renault'\n",
      " 'Chery' 'Great Wall' 'Citroen' 'Hyundai' 'Suzuki' 'Alfa Romeo'\n",
      " 'Chevrolet' 'Mercedes' 'BMW' 'DS' 'Toyota' 'Huanghai' 'Vms' 'Skoda'\n",
      " 'Daewoo' 'Balingo' 'Haima' 'Zotye' 'Audi' 'Mini Cooper' 'Gonow'\n",
      " 'Land Rover' 'DFSK' 'Ibiza' 'SsangYong' 'QQ' 'JAC' 'Ford' 'Lada' 'Chana'\n",
      " 'Opel' 'Baic' 'Honda' 'MG' 'CERTA' 'Faw' 'Chrysler' 'DFM'\n",
      " 'Fiat Professional' 'Daihatsu' 'Hafei motors' 'Sonacom' 'Isuzu' 'Lagona'\n",
      " 'Pougou' 'Desactivation adblue sur kia sportage et hyundai tucson'\n",
      " 'رونو 18براك' 'Geely' 'Mazda' 'Kango' 'Pertner'\n",
      " 'Yamaha svho super charge' 'Lifan' 'Maruti' 'Ford fiesta' 'Tata'\n",
      " 'Gonow dfsk dfm sokon chana hafei faw' 'Rover' 'Mitsubishi' 'Changan'\n",
      " 'clio' 'Porsche' 'رونو   18' 'Aston Martin' 'Ssang yong' 'Tesla' 'Atos'\n",
      " 'Brilliance' 'رونو' 'Maserati' 'Xsara' 'Smbole' 'Jaguar' 'بيجو' 'Sym'\n",
      " 'terios' 'Dfsk dfm' 'فورد' 'شفرولي افيو' 'Golf' 'Partner' 'toureg' 'Cuxi'\n",
      " 'Renault Kangoo' 'Victoria' 'Cadillac' 'Doblo' 'Clio 4' 'Cmbole'\n",
      " 'Reneault' 'ليون' 'Bugatti' 'شيفرولي' 'Kia Sorento' 'شونق' 'Renault r21'\n",
      " 'طيوطا' 'Moteur1,6hdi110' 'Seat ateca 2023' 'Iran Khodro' 'Kangoo'\n",
      " 'maruti' 'Land rover' 'Megane' 'Jeep' 'FISPA' 'BYD' 'yuejin' 'Yamaha'\n",
      " 'Hafie herbin' 'Slcoda' 'Emgrand' 'JMC' '206' 'Cm' 'Jetta' 'Renaut'\n",
      " 'Boxer' 'Infiniti' 'Accent' 'Hummer' 'Kumatsu' 'Maruti 800' 'Chinray'\n",
      " 'range rover' 'Mahindra' 'Pegeut' 'CAKY' 'Leon' 'sym' 'Subaru' 'Haunghai'\n",
      " 'Triumph' 'Vedette' 'Clio 2' 'Volvo' 'New king' 'فورس فاڨن' 'Mini'\n",
      " 'Range rover' 'GMc' 'Yuejin' 'Forgonet' 'Clio' 'sam' 'Jocy'\n",
      " 'willys hochskis' 'جريتويل' 'شفرولي افيو لاتوت' 'Nitro yamaha' 'Creta'\n",
      " 'شفرولي' '0771720850' 'Symbole' 'Lancia' 'Kawazaki' 'Chérie' 'Foryota'\n",
      " 'Dodge' 'Golf 2' '308' 'Shacman' 'huanghai landscape' 'Citroën berlingot'\n",
      " 'Voila corsa' 'Suzouki' 'Nouvelle' 'Motom' 'Clio3' 'Benneli' 'moovway'\n",
      " 'نشري سيارات' 'Polo' 'Mpm' 'tl' 'Pikanto' 'Smart' 'Tfafic' 'Rono' 'DFAC'\n",
      " 'Shineray' 'Lincoln' 'VMS' 'Keeway' 'V-max' 'SANIYA' 'Herbin' 'Pugeux'\n",
      " 'RUNUT' 'Vw' 'Grand tigre' '305' 'Ronaut' 'A3' 'GMS' 'QQ nouvelle'\n",
      " 'Pièce Kia' 'FOTON' 'Peugeot 206 HDi 2 litre' 'Chimano' 'ولينڨ'\n",
      " 'Berlingoo' 'Clio 4 GTLine' 'Saipa' 'Renault 4' 'Hammer' 'Chiniray'\n",
      " 'Z800' 'كليو 4' 'GMC' 'Peujeot' 'Mercedes Benz' 'Sokon'\n",
      " 'Sym citycom 300i' 'Ivoc' 'Megan' 'Kawasaki' 'Forland' 'Renault symbol'\n",
      " 'Renault compus' 'Range Rover evoque' 'Ona' 'سيارات أكسدونتي ورفورم '\n",
      " 'Rifter ' 'سنكوم' 'Sheniray' 'Hafie' 'Partnar' 'Pigout ' 'BAW ISUZU  '\n",
      " 'Re nault' 'changhe' 'Symbol' 'Touran' 'Gonw' 'Duster' 'Fiat Punto 2'\n",
      " 'هيونداي' 'renaulte' 'Passat' 'فيات ' 'Voiture' 'SOKON' 'Mégane'\n",
      " 'Niva 1600' 'Congo' 'i20' 'Boxar' '207 ' '2006' 'CHANA Q20' 'بوجو 308'\n",
      " 'Scinic' ' Defac' 'Yasuzy ' 'yavuz' ' Rouno' 'Lion Fr' 'Megan 3 '\n",
      " 'Peugeot 406' 'peugot ' 'Motos-scooters' 'ATA' 'Hors bord rocca'\n",
      " 'NEW king' 'ايبيزا' 'Renu kongo ' 'Dacia stpway sandero ' 'رنو'\n",
      " 'Lagun carte' 'Samand' 'MEGANE' 'شفرولي اوبترا' 'Logan dacia'\n",
      " 'سامبول نوفال' 'كونقوا' 'assurance saa' 'Samond' 'بيجو ' 'Great wael'\n",
      " 'Seat Ibiza Fully 2013' 'Moto gevatti zz  250 cc ' 'alto' 'Toyouta'\n",
      " 'Peugeot 301 hdi' 'Crysler' 'Mercedas' 'Jinbei' 'Berlingo  '\n",
      " 'Berlingo c3' 'Golf 3' 'شيري ' 'Free lander' 'Leyon ' 'Camion' 'HUANGHAI'\n",
      " '6' 'Hayfi' 'Kongo ' 'Logan' 'Other' 'Picanto ' 'RUNAULT' 'IBIZA'\n",
      " 'TIGUAN' 'clio 3' 'كليو كلاسيك' 'QIQI' 'فيات' 'ابيزا' 'CF MOTO'\n",
      " 'شراء السيارات' 'سيات' 'Cupra' 'shacman' 'Changhe' 'CUPRA' 'Shinrey'\n",
      " 'Land Rover Ranger Rover' 'Harbine HIFI' 'Corvette' 'K66'\n",
      " 'Dfsk dfm chana hafei sokon jenbei New king' 'handicapé' 'Renalt'\n",
      " 'Formentor' 'رباطة botleuse 2023' 'Whistle tour' 'تيوتا' 'Pigo'\n",
      " 'رباطة بوتلاز 2023' 'Acheter les voiture' 'نشري سيارات أكسيدونتي'\n",
      " 'Gonow dfsk hafei dfm chiri' 'Clio 5' 'Jetour' 'Saab' 'كيا' 'Lagauna'\n",
      " 'Megane 2' 'Tayota' 'Shacman x9' 'Wuling' 'Kawawsaki' 'foryota admiral'\n",
      " 'ستبواي' 'Kongoo' 'Berlingo' 'Niva' 'Tracteur' 'Fiat doblo' 'ميقان' 'OMG'\n",
      " 'JETOUR' 'CHANGHE' 'Mercedes benz' 'Gonaw dfsk chiry haefi' 'Reuneolt'\n",
      " 'رونوا' '406hd' 'Okinoi' 'Marouti' 'Kongo' 'W Max 300' 'Yamha' 'Peogeout'\n",
      " 'Runo' 'Golf 8' 'Clark' 'cirta' '207+' 'Runeut' 'Gol' 'Migan biri'\n",
      " 'Range Rover' 'Marcury' 'Lexus' 'cimca' 'Saxo' 'Passat Baccarat plus'\n",
      " 'Cooper' 'Rétro chargeur' 'Brp' 'Qashqai' 'kia Picanto' 'GREAT WAL'\n",
      " 'Faita' 'شيري يوكي فريقو' 'Seat ibiza' 'بريونس' 'I10' 'رانج روفر'\n",
      " 'SYM ORBIT 2' 'رونو اكسبراس' \"Arkaha 140ch 3'1 TCE RSLine\" 'picanto'\n",
      " 'Siat' 'سكودا' 'Licence el moujahidin' 'Toyota land cruiser V8'\n",
      " 'Achat voiture' 'Safran' 'passat' 'Dawoo' 'ويلينق' 'افيو' 'Renault Clio'\n",
      " 'jinbei' 'Simca' 'Moto' '4x4' 'Forgon' 'Ecko denaa' 'Ecko dena' 'Chine'\n",
      " 'Compis 1.5 dci' '208' 'Huangai' \"'\" 'Hafei dfsk gonow' 'تڨوان' 'هايفي'\n",
      " 'suzki' 'CATERPillar' 'Sonacome' 'chana baic' 'قريتوال' 'Geret wall'\n",
      " 'كليو كومبوس' 'Fiat tipo life' 'Charita' 'Jaquard machinary' 'j5'\n",
      " 'ماروتي 2007' 'إفيكو' 'Siet' 'Cloi 3' 'Peaugot' 'Scanner automobile'\n",
      " 'Reprogrammation ' 'Volksvakan' 'سيثيرنا تراكتور'\n",
      " 'Dfsk faw gonow chana hafei 7plas faw v70' 'Huahe' 'jeep willys' 'اكسنت'\n",
      " 'Citroën c3 aircross' 'Tang bao' 'Passât' 'لادة' 'شانا' 'فيات ديكاتو'\n",
      " 'شيني شكمان' 'Gmc' 'Lion' 'wuling' 'Cielo' 'maroti' 'Lavuz' 'Shenray'\n",
      " 'symex' 'BYD F3' 'Teryos' 'Reunault' 'Mercedes classe a180' 'Tucson'\n",
      " 'شيري يوكي dfsk dfm gonow' 'Great' 'Pegeout' 'ibiza' 'foryota'\n",
      " 'Vespa Piaggio LML' 'Kiz' 'Haima1 alto QQ maruti' 'Scanner pour' 'داسيا'\n",
      " 'Toyora' 'Sim' 'Symlux' 'Volswagan' \"Licence d'importation\" 'Iveco'\n",
      " 'Cuxi 2' 'Licence Moudjahidines' 'Achat tout les voitures accidentée'\n",
      " 'Dfsk gonow hayfi' 'Sandiro stepwey' 'Saangyong' 'Tanduz' 'InfiniFit'\n",
      " 'Runult' 'Vmax' '308 Gt' 'Volskwagen' 'Motos' 'Dfm double cabin'\n",
      " 'Clio Japon' 'سياة' 'citroene' 'نيفا' 'iveco' 'Stapway' 'Alto' 'Opal'\n",
      " 'Gili' 'Dacia Logan MCV' 'Seriz' 'Fiat 500' 'تويوتا' 'Fiat doublo'\n",
      " 'Great wall' 'Acheter les voiture accidenté' 'ولينغ' 'وليڨ' 'Sachs'\n",
      " 'Rolls Royce' 'Cady' 'كاين ابلات فورم 120م' 'vms' 'Leon fr' 'Peugeut'\n",
      " 'شوفرولي' 'Pajero' 'Clion 3' 'Haifi' 'Peugru' 'RANGE ROVER' 'ZM'\n",
      " 'Sandero' 'سيمبول' 'Gnaw' 'Fiat Tipo+' 'sorento' 'Gonaw' 'Clio 3'\n",
      " 'سامبول' 'VW' 'GAZ  GPL BARAKI ' 'Dilta' 'Sait' 'Renlte' 'MeGan biri' 'ب'\n",
      " 'Song young' 'XINKAI' 'كونغو' 'Benni' 'Gonow dfsk dfm sokon' 'Aveo' 'WV'\n",
      " 'Volks wagen' 'papier' 'Hyundai santafé' 'Rone' 'JAGAR' '406'\n",
      " 'Range  rover' 'Peugot' 'Peageot' 'bfm' 'clio campus' 'Scoda' 'TIXON'\n",
      " 'Golf 7' 'sportage' 'كليو فراشة' 'Panaria' '207' 'Master' 'Sitrouine'\n",
      " 'Sam' 'Zastafa 128' 'DFSK gonow hafei dfm faw chana hamar Sokon'\n",
      " 'Gret wall' 'Golf8' 'SYMBOL' 'range rover évoque  7 rapport' 'Tmax 530'\n",
      " 'Gian' 'Kongor Renault' 'Runault' 'كوكسي' 'Megane 3' 'Buggi' 'CLIO  2'\n",
      " 'Paratnir' 'اودي' 'farad' 'sokon' 'hymex' 'Yuedjin' 'Gonwo' 'Benelli'\n",
      " 'FAW bestune t55 1.5 turbo 169ch المجمولة' 'Tipo' 'رخصة مجاهد' 'Pegot'\n",
      " 'Lougan' 'Peagaux' 'Clio 5 rs line' 'Logan stepway' 'Super 5' 'Sangyong'\n",
      " 'Toyota helix' 'Dfsk sokon' 'Hyundai h1' 'شيري' 'Nissan tida' 'Options '\n",
      " 'بارتنار تيببي' 'Hibao' 'DS Automobiles']\n"
     ]
    }
   ],
   "source": [
    "unique_brands = copy['specs_marque-voiture'].unique()\n",
    "\n",
    "# Print the list of unique brands\n",
    "print(unique_brands)"
   ]
  },
  {
   "cell_type": "code",
   "execution_count": 160,
   "metadata": {},
   "outputs": [],
   "source": [
    "copy['Engine Capacity'] = copy['specs_car_engine'].str[:3]"
   ]
  },
  {
   "cell_type": "code",
   "execution_count": 161,
   "metadata": {},
   "outputs": [],
   "source": [
    "copy['Engine Capacity'] = pd.to_numeric(copy['Engine Capacity'], errors='coerce')\n",
    "copy.loc[copy['Engine Capacity'] > 26, 'Engine Capacity'] = pd.NA\n",
    "\n",
    "# Calculate the mean of the \"Engine Capacity\" column, excluding NaN values\n",
    "mean_value = copy['Engine Capacity'].mean(skipna=True)\n",
    "\n",
    "# Fill NaN values in the \"Engine Capacity\" column with the calculated mean\n",
    "copy['Engine Capacity'].fillna(mean_value, inplace=True)"
   ]
  },
  {
   "cell_type": "code",
   "execution_count": 162,
   "metadata": {},
   "outputs": [
    {
     "name": "stdout",
     "output_type": "stream",
     "text": [
      "Engine Capacity\n",
      "1.61063    16608\n",
      "1.60000    14712\n",
      "2.00000    10372\n",
      "1.50000     8660\n",
      "1.20000     7530\n",
      "           ...  \n",
      "5.10000        1\n",
      "0.70000        1\n",
      "3.90000        1\n",
      "6.20000        1\n",
      "0.11000        1\n",
      "Name: count, Length: 70, dtype: int64\n"
     ]
    }
   ],
   "source": [
    "print(copy['Engine Capacity'].value_counts())"
   ]
  },
  {
   "cell_type": "code",
   "execution_count": 163,
   "metadata": {},
   "outputs": [
    {
     "data": {
      "text/plain": [
       "Index(['id', 'title', 'price', 'specs_annee', 'specs_car_engine',\n",
       "       'specs_couleur_auto', 'specs_papiers', 'specs_kilometrage',\n",
       "       'specs_marque-voiture', 'specs_modele', 'specs_finition',\n",
       "       'specs_energie', 'specs_boite', 'options', 'Engine Capacity'],\n",
       "      dtype='object')"
      ]
     },
     "execution_count": 163,
     "metadata": {},
     "output_type": "execute_result"
    }
   ],
   "source": [
    "copy.columns"
   ]
  },
  {
   "cell_type": "code",
   "execution_count": 164,
   "metadata": {},
   "outputs": [
    {
     "name": "stdout",
     "output_type": "stream",
     "text": [
      "id                        int64\n",
      "title                    object\n",
      "price                   float64\n",
      "specs_annee               int64\n",
      "specs_car_engine         object\n",
      "specs_couleur_auto        int32\n",
      "specs_papiers           float64\n",
      "specs_kilometrage       float64\n",
      "specs_marque-voiture     object\n",
      "specs_modele             object\n",
      "specs_finition           object\n",
      "specs_energie           float64\n",
      "specs_boite             float64\n",
      "options                   int64\n",
      "Engine Capacity         float64\n",
      "dtype: object\n"
     ]
    }
   ],
   "source": [
    "print(copy[['id', 'title', 'price', 'specs_annee', 'specs_car_engine',\n",
    "       'specs_couleur_auto', 'specs_papiers', 'specs_kilometrage',\n",
    "       'specs_marque-voiture', 'specs_modele', 'specs_finition',\n",
    "       'specs_energie', 'specs_boite', 'options','Engine Capacity']].dtypes)"
   ]
  },
  {
   "cell_type": "code",
   "execution_count": 165,
   "metadata": {},
   "outputs": [
    {
     "data": {
      "text/html": [
       "<div>\n",
       "<style scoped>\n",
       "    .dataframe tbody tr th:only-of-type {\n",
       "        vertical-align: middle;\n",
       "    }\n",
       "\n",
       "    .dataframe tbody tr th {\n",
       "        vertical-align: top;\n",
       "    }\n",
       "\n",
       "    .dataframe thead th {\n",
       "        text-align: right;\n",
       "    }\n",
       "</style>\n",
       "<table border=\"1\" class=\"dataframe\">\n",
       "  <thead>\n",
       "    <tr style=\"text-align: right;\">\n",
       "      <th></th>\n",
       "      <th>count</th>\n",
       "      <th>mean</th>\n",
       "      <th>std</th>\n",
       "      <th>min</th>\n",
       "      <th>25%</th>\n",
       "      <th>50%</th>\n",
       "      <th>75%</th>\n",
       "      <th>max</th>\n",
       "    </tr>\n",
       "  </thead>\n",
       "  <tbody>\n",
       "    <tr>\n",
       "      <th>id</th>\n",
       "      <td>81651.0</td>\n",
       "      <td>3.801315e+07</td>\n",
       "      <td>3.610755e+06</td>\n",
       "      <td>5065853.0</td>\n",
       "      <td>37257272.0</td>\n",
       "      <td>38785328.0</td>\n",
       "      <td>4.046485e+07</td>\n",
       "      <td>4.114435e+07</td>\n",
       "    </tr>\n",
       "    <tr>\n",
       "      <th>price</th>\n",
       "      <td>81651.0</td>\n",
       "      <td>1.364176e+17</td>\n",
       "      <td>3.521142e+19</td>\n",
       "      <td>0.0</td>\n",
       "      <td>30000.0</td>\n",
       "      <td>1310000.0</td>\n",
       "      <td>3.000000e+06</td>\n",
       "      <td>1.000000e+22</td>\n",
       "    </tr>\n",
       "    <tr>\n",
       "      <th>specs_annee</th>\n",
       "      <td>81651.0</td>\n",
       "      <td>2.012781e+03</td>\n",
       "      <td>8.432619e+00</td>\n",
       "      <td>1922.0</td>\n",
       "      <td>2009.0</td>\n",
       "      <td>2014.0</td>\n",
       "      <td>2.019000e+03</td>\n",
       "      <td>2.024000e+03</td>\n",
       "    </tr>\n",
       "    <tr>\n",
       "      <th>specs_couleur_auto</th>\n",
       "      <td>81651.0</td>\n",
       "      <td>1.083955e+01</td>\n",
       "      <td>7.801758e+00</td>\n",
       "      <td>0.0</td>\n",
       "      <td>3.0</td>\n",
       "      <td>10.0</td>\n",
       "      <td>1.500000e+01</td>\n",
       "      <td>3.100000e+01</td>\n",
       "    </tr>\n",
       "    <tr>\n",
       "      <th>specs_papiers</th>\n",
       "      <td>78078.0</td>\n",
       "      <td>1.075937e+00</td>\n",
       "      <td>3.305852e-01</td>\n",
       "      <td>1.0</td>\n",
       "      <td>1.0</td>\n",
       "      <td>1.0</td>\n",
       "      <td>1.000000e+00</td>\n",
       "      <td>3.000000e+00</td>\n",
       "    </tr>\n",
       "    <tr>\n",
       "      <th>specs_kilometrage</th>\n",
       "      <td>77616.0</td>\n",
       "      <td>1.289683e+28</td>\n",
       "      <td>3.589423e+30</td>\n",
       "      <td>-1340000.0</td>\n",
       "      <td>468.0</td>\n",
       "      <td>97148.0</td>\n",
       "      <td>2.300000e+05</td>\n",
       "      <td>1.000000e+33</td>\n",
       "    </tr>\n",
       "    <tr>\n",
       "      <th>specs_energie</th>\n",
       "      <td>0.0</td>\n",
       "      <td>NaN</td>\n",
       "      <td>NaN</td>\n",
       "      <td>NaN</td>\n",
       "      <td>NaN</td>\n",
       "      <td>NaN</td>\n",
       "      <td>NaN</td>\n",
       "      <td>NaN</td>\n",
       "    </tr>\n",
       "    <tr>\n",
       "      <th>specs_boite</th>\n",
       "      <td>0.0</td>\n",
       "      <td>NaN</td>\n",
       "      <td>NaN</td>\n",
       "      <td>NaN</td>\n",
       "      <td>NaN</td>\n",
       "      <td>NaN</td>\n",
       "      <td>NaN</td>\n",
       "      <td>NaN</td>\n",
       "    </tr>\n",
       "    <tr>\n",
       "      <th>options</th>\n",
       "      <td>81651.0</td>\n",
       "      <td>7.578144e+00</td>\n",
       "      <td>5.193321e+00</td>\n",
       "      <td>0.0</td>\n",
       "      <td>2.0</td>\n",
       "      <td>8.0</td>\n",
       "      <td>1.300000e+01</td>\n",
       "      <td>1.400000e+01</td>\n",
       "    </tr>\n",
       "    <tr>\n",
       "      <th>Engine Capacity</th>\n",
       "      <td>81651.0</td>\n",
       "      <td>1.610630e+00</td>\n",
       "      <td>6.185367e-01</td>\n",
       "      <td>0.0</td>\n",
       "      <td>1.4</td>\n",
       "      <td>1.6</td>\n",
       "      <td>1.610630e+00</td>\n",
       "      <td>2.500000e+01</td>\n",
       "    </tr>\n",
       "  </tbody>\n",
       "</table>\n",
       "</div>"
      ],
      "text/plain": [
       "                      count          mean           std        min  \\\n",
       "id                  81651.0  3.801315e+07  3.610755e+06  5065853.0   \n",
       "price               81651.0  1.364176e+17  3.521142e+19        0.0   \n",
       "specs_annee         81651.0  2.012781e+03  8.432619e+00     1922.0   \n",
       "specs_couleur_auto  81651.0  1.083955e+01  7.801758e+00        0.0   \n",
       "specs_papiers       78078.0  1.075937e+00  3.305852e-01        1.0   \n",
       "specs_kilometrage   77616.0  1.289683e+28  3.589423e+30 -1340000.0   \n",
       "specs_energie           0.0           NaN           NaN        NaN   \n",
       "specs_boite             0.0           NaN           NaN        NaN   \n",
       "options             81651.0  7.578144e+00  5.193321e+00        0.0   \n",
       "Engine Capacity     81651.0  1.610630e+00  6.185367e-01        0.0   \n",
       "\n",
       "                           25%         50%           75%           max  \n",
       "id                  37257272.0  38785328.0  4.046485e+07  4.114435e+07  \n",
       "price                  30000.0   1310000.0  3.000000e+06  1.000000e+22  \n",
       "specs_annee             2009.0      2014.0  2.019000e+03  2.024000e+03  \n",
       "specs_couleur_auto         3.0        10.0  1.500000e+01  3.100000e+01  \n",
       "specs_papiers              1.0         1.0  1.000000e+00  3.000000e+00  \n",
       "specs_kilometrage        468.0     97148.0  2.300000e+05  1.000000e+33  \n",
       "specs_energie              NaN         NaN           NaN           NaN  \n",
       "specs_boite                NaN         NaN           NaN           NaN  \n",
       "options                    2.0         8.0  1.300000e+01  1.400000e+01  \n",
       "Engine Capacity            1.4         1.6  1.610630e+00  2.500000e+01  "
      ]
     },
     "execution_count": 165,
     "metadata": {},
     "output_type": "execute_result"
    }
   ],
   "source": [
    "copy.describe().T"
   ]
  },
  {
   "cell_type": "code",
   "execution_count": 174,
   "metadata": {},
   "outputs": [
    {
     "name": "stdout",
     "output_type": "stream",
     "text": [
      "['1.5', 'DCI', '90ch', '1.6', 'MPi', '2.0', '150ch', '4WD', 'HDI', '92ch', '1.2', 'ess', '16V', '75ch', '72ch', 'TDI', '110ch', '80ch', '102ch', '143ch', '1.9', 'tdi', 'Dci', '85ch', 'dci', '0.8', '38ch', '1.4', '1.8', 'D', '65ch', '140ch', '103ch', '100ch', '1.1', '68ch', '84ch', 'VTI', '4X4', 'VCDI', 'BVA', '1.3', 'VVT', '94ch', '250', 'CDI', '204', '112ch', '55ch', 'DCi', '2.5', '171ch', '105ch', 'Ecomotive', '2.8', 'TD', '115ch', 'VVTI', '99ch', 'VM', '425', 'FAP', '115', 'CH', '80', 'ch', '47ch', 'CVVT', '87ch', 'ESS', '130', 'cv', 'hdi', '4X2', '91ch', '0.9', '34ch', '83ch', '71ch', '95ch', '60ch', '1.0', '70ch', '120ch', '109ch', '2.1', 'DT', 'CRDI', '177', '4x4', '200chv', '82ch', 'DSG', '6', '69ch', '16', 'dti', '63ch', '1,6', '53', '2x4', '127ch', 'S90', '_1.8', 'DDTI', '174ch', '170ch', '184ch', '220', '177ch', 'TDi', 'BlueEfficiency', 'simple', '130ch', 'GTI', '202ch', 'H', 'i', '92', 'Ch', 'V16', '2.2', 'SD4', '-', '190ch', 'Tdi', 'Bosch', 'Sans', 'tirbo', '85chv', '197ch', '128ch', 'chv', 'TDCI', 'd', '46ch', '78ch', 'la', '100', 'e-HDi', '98ch', 'Quattro', '16v', '136ch', 'Crdi', '1.4l', 'DDIS', 'turbo', '155ch', 'PICK-UP', 'E-XDI', '129ch', '81ch', '1.6l', '123ch', 'BlueEFFICIENCY', 'Turbo', 'Diesel', '110', '3.0', 'V6', '194ch', 'غاز', 'GT', '107ch', 'A45', 'AMG', '360ch', '4MATIC', '200', 'chevaux', '97ch', 'MPI', 'HTP', 'S-Tronic', 'vti', '95', 'DTR', '4x2', '176ch', 'BVM', 'e', '96ch', '245ch', 'ddti', '210ch', '88ch', 'dCi', '2.3', '125ch', '86ch', '113ch', 'MT', 'STD', 'gpl', '1,5', '1.0l', '52ch', '2.5L', '7', '163ch', '58ch', '7cv', '2.0TDI', '140', '2l', 'Bon', 'état', 'Iveco', '204ch', '4', 'Matic', 'vvt', 'tsi', '245', 'essence', '2.0.', '4*4', 'سامبل', 'E-HDI', 'TSI', '160ch', 'TFSI', '300ch', '114ch', 'D4D', 'Hdi', '2L', '90', '100Ch', '3', 'cylindre', 'puretech', '130CH', 'boîte', 'EAT8', '2', 'l', '143', 'DTI', 'SDI', '64ch', 'TD4', '93ch', 'AWD', 'TDI177', 'TCE', '117ch', '65', 'plombier', 'Moteur', '8', 'diesel', '185ch', '2.0lt', '62ch', 'دوتس', 'بياما', '200ch', 'crdi', 'A250', '(4x4)', 'CV', '104ch', 'La8', '54ch', 'tce', '1,4', 'sanple', 'Automatique', 'STT', 'GPL', 'HDi', 'E', 'cdi', '211', '2.5l', 'C', '138', '1.6HDI', '122ch', '2.0L', '73ch', 'xDrive', '25d', '231ch', '110cv', '75', 'sampl', '211ch', 'THP', '105chv', '150', 'ALLURE', 'T9', '115C', 'لا8', '1.9D', '320', '2.0l', '285ch', 'valve', '2.0Tdi', '3.14', 'A200', 'DSG6', 'SR', 'محطوط', '1.6hdi', '1.9Dci', '130chv', 'CTI', '1.7', '136', '112', '74ch', 'FSI', '30ch', 'Ess', '144ch', '0.6', '29ch', 'M20b20', 'chasseur', '110CH', 'Toyota', 'HILUX', '5', 'ligne', 'encien', 'semi', 'injiction', '_130', 'LINE', '+', 'La', 'ED4', '1.5dci', '105', '106ch', 'td', 'DSG7', '175ch', '197', 'جديد', 'cylinder', '220ch', 'v16', '124ch', '150CH', 'TCi', '111ch', 'Hd', 'SI4', '241ch', 'quatro', 'L', 'v', '.', '3pip', 'Tsi', 'TDI2.0L', '1.25', '156ch', 'sdi', '240CH', '107', '203ch', 'رونو', 'R21....1.8', '180ch', 'moteur', 'r21', '1,7', 'Ti', 'VCT', 'dsi', 'hd', 'litre', 'boite', '133ch', 'énergi', '116ch', 'sampel', '115CH', '240Ch', 'Cupra', 'Essence', '265ch', 'XDI', '141ch', 'cilendre', 'CVT', '124', 'CGI', 'cari', '118ch', 'MZR', 'CD', '270', 'DOHC', 'D-CVVT', 'Mercedes', 'sans', '92cv', '2.0tdi', '150ps', 'أو', 'V8', '110tdi', '165ch', 'dt', 'hp', 'S', 'افكو', 'TCI', 'disel', '1,9', '6rapport', 'GTS', '20d', '311', '10', 'انجكسسو', 'mpi', '193ch', '5.6', '400ch', 'Jtd', '5.0', 'V10', '313ch', '77ch', '1.5DCI', '116', 'simpl', '4.9', 'Hybrid', 'Rzh1', '12v', '4MOTION', '2لتر', '135ch', '45ch', '85', 'cylindres', 'HD', '2.9', '12V', '35', '200cv', '258ch', 'PDK', '125', 'شوفو', 'بنزين', '240', 'aveo', '2،2', '11', 'VR6', 'sDrive', '18i', '1.9TDI', '180', '4.0', 'ماوروتي', 'زان', 'Fayal', 'l1000', '113', 'HAIMA', 'boch', '190', 'nv', 'blue', '60', 'Chv', '2،5', 'ايفيكو', 'انصيا', 'Accent', '170.', '115cv', 'N55b30', 'twin', 'énergie', 'EF7NA', '350', '4Matic', 'محرك', 'ماشي', 'مفتوح', 'ديبي', 'دسيقمو', '178ch', 'refait', 'neuf', '10/10', '120', '43ch', '40ch', '270ch', 'R20', '48ch', '1.3L', 'Baz', 'clim', '1.9dci', '3.2', 'auto', '76ch', 'سن', 'تيربو', 'ta3', 'sepranteur', 'حصان', 'Yamchi', 'mashalh', 'Roh', 'win', 'habit', '163cv', '42', 'CDTI', 'cilindre', '(140ch)', '67ch', '91', 'jtd', 'TSi', '290ch', 'vvtI', '87', '0.2', 'GD', 'TDI2.0', '140CH', 'v6', '101ch', '138ch', '145ch', '/110ch', '280ch', '90CH', '2.OL', '90chv', 'doit', 'مرسيدس', 'صون', 'تربو', 'ثلاث', 'اسطوانات', '2.0e', '6.2', '436ch', 'سيارة', 'طالبان', '92cc', '108ch', '115chv', 'اكسبراس', '74', 'A170', 'Family', '240ch', 'سون', 'cheveau', 'dsg', 'An', '1', 'chvx', '184', 'GDI', '340ch', '2WD', '50ch', 'Type', '9', 'sylender', 'en', 'جونيور', 'un', 'seule', 'arbre', 'a', 'came', 'GTD', 'mercedes', 'Om', '651', '3.5', '205CH', 'Ch200', 'Dsj7', 'liné', '27ch', 'tdci', '1.4simple', 'متور', 'بكرة', '3.4', '179ch', '1.9d', '4×4', 'مرسيداس', '5تيربو', 'silndar', 'r25', 'tcdi', 'Sd4', 'VTS', 'sb', '225', 'Multitronic', '1.5DCi', '2.4', 'francais', '..jamais', 'tefta7', 'ديزل', 'CRDE', 'gtd', '280', 'EDC', 'Dzl', 'turbou', 'pack', 'm', '138/', 'M6', 'Line', 'A220', 'Cooper', '300d', '275ch', '40', 'quattro', 'DTEC', 'cheveux', 'S&S', 'Style', 'BlueTEC', 'TS', '79ch', 'فراشة', 'nourmal', 'sambel', 'vvti', 'bx', '121ch', 'Fire', '1000', '/', 'TURBO', 'gpl2020', 'لتر', 'ess1.4', 'carburateur', '170', 'LA', 'Roadster', 'esse', '200cc', '04', 'MONTION', 'ش', 'د', 'ا', '1-', 'silandre', 'toi', 'ايسونس/غاز2020', '1,5.', 'dci.', '100chv', '4,5', 'GSE', 'golf', '110ch.', 'JTD', 'Express', '76', 'Ecoflex', 'Vti', 'بلا', 'موتور', 'BleuEfficiancy', 'DSJ', '53ch', 'D4d', 'tci', '525d', '218ch', '300', '645ci', '4.4', '355ch', 'Gtl', 'grand', 'pali', '37', 'chovo', '4l', 'cleaon', 'avio', 'Hdi115', '.5', 'مينقص', 'ميسخن', '220d', '190cv', '235ch', 'Edition', 'goulf', '165', 'gaz', '2•2', '102', 'Mhtot', 'machi', '10alf', 'مضاف', 'SD', 'supercharged', '15', 'dic', '1.5ess', 'chipy', 'MJET', 'BX', 'افيو', 'MOTEUR', '450', 'v8', 'WRANGLER', 'UNLIMITED', 'SPORT', '150Ch', 'litres', 'disiel', 'ديزال', '3,6', 'CRD', '3.9', 'lase9', '1,2', '210', 'cc', '173ch', '1.6HDi', 'vdt', 'Td', '158ch', '204cv', '310ch', '48', '0.4', '420d', 'نوفو', '1.5dsi', 'مشاء', 'الله', 'faire', '4.7', 'HdI', 'Q5', 'coupi', '42TD', '.4×4', 'crd', '3.6', '420', '1,20', 'V5', 'M57', '132ch', 'tirbou', 'raport', '1.4.', 'سمبول', '205', '122', '82', 'silanedar', 'VTEC', 'S300', 'hybride', 'BleuEfficiency', 'Mazda', '160', '185', 'L10', 'اوفار', '143chv', 'ديازال', '1٫9', 'Safire', '92chv', 'special', '2.0t', '253ch', '75CH', '45', 'CDi', '84', 'choveux', '128', 'GTL', 'vitesse', 'VIII', 'crédit', '2litre', 'شيفروليه', '2.0L.', '12', 'tarbo', 'expresse', 'Multi', 'Air', 'DLX', '4.2', 'TD42', 'DC', 'sample', '142ch', 'شفرولي', '5.7', '395ch', '1.6Hdi', '6سيلاندر', 'نتع', 'تويوتا', 'كواستر', 'ماهوش', 'd65', 'essn', 'Motor', 'diasel', 'Gtd', '350ch', '83cv', '136lter', 'energy', 'دسي', '155CHV', '123', 'مازوت', 'جينيور', '2500', 'cr', ',', 'CHEV', 'bva', '2.7', '4motion', 'Ch,', 'V', '137ch', '520d', '300D+', 'نبيرا', '4700', 'efi', '32', 'soupapes', 'cdti', 'مارسوداس', '5ليني', '2.8L', 'Normal', '150cv', 'style', '109', 'européenne', '194', 'line', 'Tiptronic', '2.2cdi', '1.6mpi', 'etat', 'DOHC16', 'valves', '1.8.', '1.6essence', '163chv', '75cv', 'Bx', 'Nu', 'I-4', 'injection', 'directe', \"d'essence,\", 'DACT,', 'soupape', 'variable', 'DÉMAREUR', 'avant', '19', 'dz', 'TB', '1.3cdti', 'thp', 'Cdi.', 'C220', 'I', 'bleu', '256ch', 'V8.', '100Chvx', '320d', 'EfficientDynamics', 'CrD', 'turbeau', '45فاير', '2,8', 'Quatro', '95CV', 'T', 'تاع', '406', 'pure', 'tech', 'HP', 'suspension', 'بدون', '4matic', '1.6L', '4cyl', 'Blue', 'BVM6', '4*2', '515', '204chv', '12ch', 'DCT', '2.0HD', '205ch', '41ch', 'Mjet', 'MPFi', 'vcdi', 'chev', '204CH', 'QUATROO', '110h', '200CH', 'Cheveux', 'd’ci', '5cyl', '400Cv', 'B', '1600', 'C.D.I.', 'اكس', 'براس', '2,5', '85cv', '75chv', 'BlueHDi', '1,8', '1.8L', '190حصان', 'logan', '2012', '1.6ess', 'c', '143c', 'spécial', '(', '2.7l', 'سلاندر', '1,0', '55', '151ch', '4500', 'vtc6', '3,5L', 'BlueTec', 'Bluemotion', 'SCTi', 'EcoBoost', 'M52', 'B20', 'g60', '1.2/16v', '***عام', '2004', 'D4', '290', '___', 'Xli', 'BlueMotion', 'Di', 'DI-D', 'Common', 'Rail', 'سيلاندر', '131', 'fait', 'caré', 'R50', '500', '388ch', '164ch', '1.1ess', 'MATIC', 'fors', '1.87', 'dci1.9', 'sanbel', 'diazal', '131ch', '100CH', 'suzuki', 'GLS', 'A6', 'deassal', 'DVVT', '2.0HDI', '110Ch', '1.2i', '2.00', 'De', 'l&#039;usine', '7rapport', 'Deisel', 'لسوني', 'فاير', '47', '3.5L', 'DACT', '24', 'HDI.', 'Mutsibishi', 'L200', 'Chain', 'plastique', 'fsi', 'gas', 'ايسونس', 'R19', 'type2', 'automatique', '2.1td', '435ch', '8cv', 'automat', 'Dsi', '86', '24ch', 'Sb', 'Vicor', 'dfm', 'Lion', 'fr', 'boit', 'manyal', '2.2hdi', 'R9', '.100', '57ch', '1.4ess', 'DURAMAX', 'DIESEL', 'MZ', '1.2ess', '8v', 'r', '25', 'HSE', 'sport', 'Tub', 'L8', '1.2/', 'va', 'VMAX', '2021', '178', 'اربع', 'RANG', 'ROVER', 'G.P.L', 'esd', 'Johnson', '70', 'dzl', 'المحرك.جيد', 'جدا', 'TCe', 'Litres', 'R25', 'Rd', '28', 'es', '163', '1.6D', '1.4HDI', '7ch', 'Mitsubishi', 'bleuhdi', '150che', '1.33', 'cheveaux', 'dsia', 'étiquette', '89', '111', 't', '112cv', '1&#039;6', '4أسطوانات', 'لية', '16صمام', 'e-XGi', '5.2', 'Dsl', 'Cd', '20', '251Chv', 'تيبو', 'Deux', 'Collin', 'issence', '20.2', 'h', 'La.', '8simple', '128cv', '44ch', 'essnce', 'CHS', 'spesiale', 'R18', 'type', 'كات', 'بارتنار', '67حصان', 'hadi', 'Dfsk', '4.5', '30d', '238ch', '161ch', 'ماروتي', 'avec', 'Cdi', '2.30', 'Mazot', 'CHANA', 'CABINE', '1.0mpi', 'FIH', 'GAZ', 'Moteur.', 'L4', '2.4L', 'issuzi', '6v', '313', 'motur', 'R21', '1.8esans', '+gpl', 'Boite', 'bas', 'Om603', 'Tce', '51ch', '9ch', 'diezel', '-1.2', 'essance', 'اصانص', '300t.', 'Stage', '1+', '2.9لتر', 'تيربوا', 'شوفرولي', 'JPL', '8.0', '1001ch', 'Cilendre', 'Tci', '12Dw', 'son', 'spicial', 'Dcl', 'iveco', 'sant', 'ess75che', 'coulé', '310', '009', 'ps', '10ch', 'Gtx', 'mkalib', 'One', '98', 'Minimalist', '75Ch', '116hp', 'ESSENCE', '450ch', 'kouchi', 'مش', 'عالاف', '140Ch', '405', 'اسونس', 'Moteur:', 'tt', 'opt', '4ch', '2.', '126ch', 'Esd', 'Gpl', 'Lifan', '2.5dsl', 'tfsi', 'E220', '4selander', 'motion', 'أسطونات', '142', 'cvt', 'carré', 'e-torq', 'BVA6', '1.0tce', '1.0.', 'Mpi', 'cho', 'A180', '184crdi', 'Golf', 'R-Line', 'ACC', 'PDC', 'Un', 'manuelle', '90cv', 'etorq', '92CH', '1.3.', 'Sce', 'CRDi', '99', 'sanbl', 'tach', 'ddis', 'de', '6cylundr', 'acteco', '1.0tsi', '110chv', 'ROC', 'ltr', 'tfc', '115sh', '100cv', 'Clio', 'SCe', '1.9DCI', '3cylindr', 'd-cat', '11o', 'TIPO', 'Layf', '1.5L', 'D15Y3', '220D', '265cv', '1800', 'HIGH', 'OUTPUT', 'QUATTRO', '300cv', 'X-DRIVE', '300D', '272cv', 'de30', 'كيلاصة', '2.l', 'corola', 'vitesses', '183ch', '03L...', 'ماشالله', 'دار', '147', 'MultiAir', 'Tfsi', '143Ch', 'sce', '256', '150chv', '4montion', 'Cv', '115CV', 'Meter', 'cvh', '103', '197cv', '1.4L', '95CH', '186', '95Ch', '.غاز', 'tece', '2litr', 'Dsg', 'bi', '213ch', 'BVA10', '4cy', 'mater', '190.', 'TGE', 'tce100ch', '2li', 'slnd', 'Dti', '1.6.', '101', '330', '130CH.', 'etsi', 'fiha', 'tce.', 'جيام', 'fire', '2,2hdi', 'GTE', '646', 'TSI.', 'Xdi', '140che', '292', 'N47', '5L', 'Xdrive', '258', 'froi', 'mhev', '158chv', 'ch.', 'S-tronic', 'Motor1.5', 'double', 'réservoir', 'Chevaux', '68', '320ch', 'L150ch', '230E', 'tse', 'rapports', 'D.C.I', 'ibleu', '4.L', '1.00', '65cv', 'John', 'Works', '192', '192ch', 'YD', 'et', 'Steptronic', 'Sport', '1.5Dci', '150CV', '2,0', '78', 'A250e', '218', '275chv', '184Chv', 'RAPPORTS', 'Ô', '174', '154ch', 'matic', '172', '324', '1.o', 'multiair', 'Hybride', 'rechargeable', 'HLBMT', '4M', '176TDID7i', '585ch', '285', '115Ch', 'D-cat', '177cv', '56ch', 'dsg95chv', '136CH', '42ch', '150hp', '150cho', '200Ch', '1.0MPI', '65Ch', 'd4d', '118', '100cj', '1/9', 'مازط', 'سمبل', 'e-Torq', 'BOSCH', 'DI', '252', '2,2', '(150ch)', '(Automatique)', 'torq', 'esens', 'sept', 'ESS/GPL', 'DOUBLE', 'ARBRACAMME', '1.0L', '100CV', 'DIG-T', '114', 'symbol', '2023', '54', '156', '140CV', 'e-HDI', 'BVR', 'multiget', '/130chv', '155', '420CH', '90hdi', 'dCI', 'mazot', '/3.0', 'Tdi150ch', '11cv', 'silainder', '110CHV', 'militaire', '325i', 'TGDI', 'dsg7', 'chevaix', 'Yaris', '0.1', 'Eco', 'TIS', 'WRX', 'STI', 'D65', 'GPF', '2.o', 'Expresse', 'marcedes', 'c220', '318i', 'm43', '169ch', 'SMG-C', '92CV', '181ch', 'multijet', 'Ddi', 'SE', 'pur', 'teck', '0.7', '550', '4.0TDI', '1.9tdi', '117', '25e', '1.9dti', 'Ecoboost', '450hp', '1.', 'MultiAire', 'hybrid', 'ch110', '75che', '180chv', '1.5.', 'Mivec', '2,7', '180CV', '09', 'Rapports', 'pip', 'Gbl', '2,0L', 'ايسانس', 'Motion', '315cv', 'CHV', '95cv', '1.4tdi', 'JX4D25', '146', 'cH', '2.5.', 'C250', '605ch', '2.7D', '1.9dt', 'farwa', '1.0ess', '39ch', '530d', 'm57', 'تربوا', '32صون', '19dci', 'la130', 'Tse', 'purtec', 'tfsi.', 'Life', 'Etorq', 'E-Tsi', '1.9.d', 'smpl', '1.3ess', '245Ch', 'Electrique', 'hv', 'eTSI', 'Essence,', 'Gdi', '0,1', 'مرسيديس', 'لين', 'BVB', 'اتوس', 'Bosh', 'Xs', ',1.3', 'ليسونس', 'xdi', 'PIPES', 'eTorQ', 'tcr', 'SuperCharged', '390ch', 'cylinders', 'trbou', '122cv', '1,3', '40TDI', '(150', 'ch)', 'la7', '177CH', '5line', '4.0L', '2.2TDI', 'FR', 'cv.', 's3', 'Rs', '1.2L', 'A', 'brabus', 'ème', 'DIESSEL', '137', '480', 'V4', '130cv', 'Cylindres', '264ch', '1،9', 'T12', 'h.d', '182ch', '200hp', '115h', '1,5Dci', 'اينارجي', 'trubo', '1.3tce', '510ch', '5.7L', '575ch', 'chaîne', 'métallique', '1.0I', 'T-GDi', '103Ch', '193', '.100ch', 'ecoboost', '260', 'TUROBO', 'rapport', 'PureTech', 'CHEVAUX', 'purtech', 'Zd30', '1.9.', 'DGS', 'TdI', '200CV', 'BioEthanol', 'hdi150', '323ch', 'LITRE', '122CH', 'tuerbo', 'vgt', '1.5tsi', '1.6crdi', '1.9dci.', 'L.', 'Speedtronic', 'T-GDI', 'trend', 'dc', 'Vvti', ',T', 'shine', 'Purtech', 'puretch', 'ctv', 'R', 'BB22', '1.5essence', '+Gaz', '1،6.', 'Cheuve', 'cerdi', 'turbu', 'std', '129', '172cv', '177Ch', '3.6L', 'energie', '1.2l', 'Mild', 'efic', 'ESSENCE,', 'HYBRIDE', 'ETSI', 'OPF', 'life', '110CV', 'point', 'zéro', 'M50B25', 'vanos', 'etro', '2litres', 'gazoil', 'calendrier', '1,', '6hdi', '220.d', 'anjacsion', 'Rline', 'Vgt', '2009', '85C', 'chveaux', 'dvvt', 'etorque', '4*2=', '5لين', 'Ford', 'Sierra', '(111', 'cheveau)', 'L,', '115ccv', '2,0Hdi', 'Kangoo', 'Hdi90ch', '30', 'EAT', '204Ch', 'E.TORQ', 'EVO', '11och', 'phase', 'Swift', 'TFSi', 'PURETECH', '1L', '207', '1’5', '2.2L', '1hz', 'fg105', 'VVTi', '160cv', 'électrique', '1.6dz', '65d', 'td4-2.2td150ch', '1.0T', 'selnder', '-16V', 'tout', '1.6VVTI', 'hdi92', 'dgs', 'ritmo', 'Tip', 'motuer', '67', 'ecodynamique', '1.6TDi', 'cheveu', 'Puretech', '175', '234ch', '91CV', '3L', '24v', '1-7', 'creta', 'Cho', '2014', 'L130', 'DsG', '147ch', 'plus', 'agg', 'hdi/112ch', '150حصان', 'Peugeot', 'Aveo', 'لا', 'Chev', '208ch', 'bvm62.2', 'hse', 't42', '4×2', 'Gt', '93', '2eme', 'génération', '2.177', '_47ch', '-140', 'Auto', 'Special', '155cv', 'ds', '2litter', '47000', '1,5dci', '2littre', 'لباز', '73', 'multair', 'dci1.9.', '125cv', 'td4', '6.0', '1.3l', 'ch320', '180d', 'A35.', 's-tronic', '150ch.', 'Faw', 'Shv', 'Energie', 'polo', 'M', 'انرجي', '1l', '63', 'Tcdi', \"1'6\", 'Gti', 'Aggi', 'X', '320dA', 'Six', '2.0ess', '115gti', 'aggi', '150HDI', 'SCE', 'éditions', '2.2D', '1.0TCE', '/200ch', 'mphi', '252ch', '117chv', 'révisé', '118d', '3.8', '530ch', 'multiAir', '1,9dci', 'ESSENCE/', 'HYBRID', '-90', 'lettre', '1.5/150', 'puretach', 'cielo', 'carrés', 'Bva', 'lhdi', 'C12', '105chou', ',2', 'W', 'Max', 'tirdo', '1.5vvt', 'FL', 'che', 'sirgaze', '🐎', 'ccv', 'bvb', 'xli', 'srdi', '141', '272CH', 'dci125', '120cv', 'mazda', '130Ch', 'spéciale', 'B5', \"1'6.\", '16ف', 'SEMPEL', '1.6MJET', 'turb', 'zero', '1٫6hdi', '1.3Tce', '350D', 'TDI.150', 'ST', 'cilindres', '1,5DCI', '5cylindre', 'd.c.i', '265', '240hse', '7PL', 'eturk', 'Ch110', 'D4T', 'cdt', 'nouveau', 'La10', 'dièsel', 'cylendre', 'Rd28', 'Hadi', 'essenc', 'sambl', 'Esense', '1,5TSI', '5.2L', '620ch', '200h', '90Ch', 'DDTY', 'tco', 'GL-i', 'lifan-x-60-1.8-ess', 'Pure', 'Tech', 'turbot', 'dsg6', '152ch', 'Bonne', 'civic', 'vtec', 'mahtot', '108', 'MPI.', 'coaster', '6-26', '138Ch', 'sd4', 'dck', '4.8', '500ch', '1،6', 'Rb', 'semple', 'turbocharged', '165Ch', '2.0dci', '4wd', '4800', 'vtc', 'مريفيزي', 'Ritmo', '271ch', 'Biturbo', '230', 'compressor', 'ESE+GPL', 'bv6', 'Pruchtech', 'isuzi', 'Honda', 'dicor', '67cv', '385ch', '100chb', 'l112', '163CH', '120CH', 'DAIHATSU', 'Terios', '105cv', ')', '2,2l', 'TDCi', '،', 'sinple', 'transit', '611', 'w210', 'طالبو', '197cvs', '+gaz', '1.0turbo', 'compriseur', 'Echange', 'libia', '70000km', '2.5mzr', 'cd', 'TSIQ', \"3'1\", 'ch140', 'gt', '616', 'Mercedes-Benz', '140cv', 'نيسان', '195ch', '85Ch', '16valv', 'dci130', 'vp', '220cdi', 'om', 'AGG', 'e220', 'سيارديي', '/101', 'D240', '197CV', '130CV', '158CH', 'tsi/110', '1•0', '143CH', '92h', '124,,,,5', 'cylindrée', 'e-tech', 'Hilix', '/la', '272', 'Tres', 'bien', '1.5TSI', '72', '325ch', 'FAP-20', 'BUSINESS', 'bite', 'chvaux', 'انجكسيون', 'دالكو', '/Gpl', 'ل8', 'سانبل', 'HDi.', '92Ch', 't3', 'altitude', '92hp', 'M50', 'b20', 'AB', '2.0litre', 'expres', 'K', '3000', '100hp', '115Chv', 'GTi', 'SirGaz', 'مخدوم', 'مليح', 'samble', 'silender', 'Mode', '2.0d', 'ingénioum', 'Essense', '1.5من', 'نوع', '-100cv', '6.42', 'Citerne', 'lait', '1.1.', 'ciello', '850chv', 'Esence1.0', '1.5TCE', 'ess1.0', 'e_torq', 'dci/115', '143hp', 'Expres', '110hdi', 'Hundai', 'SUV', 'ل', 'سنبل', '170cv', 'R5', '.9', 'viteses', 'tubo', 'port', 'DSL', 'vct', 'ECOBOOST', '125Chv', '340chv', 'origine', '3000essence', '92hdi', '1,o', 'gti', 'Audi', 'A3', 'مزوت', 'atmosphérique', '101ch.', 'En', 'panne', '16.v', 'cilen', 'normal', 'S63', '.4.7', '136cv', 'Gy6', '150cc', 'essanse', 'litters', '131cv', '306', 'S.D.I', '1.8T', 'DT2.5', 'TDI102CH', 'جنيور', '1.5L.', 'LWB', 'D350', 'LAND', '/essence', 'GKX', 'Exspress', 'cilender', '1.9tdi.', 'purtache', 'eTorq', 'Multiair', '144', '1.0hybrid', '1.0T-GDI', 'MHEV', '16/V', '197chv', 'Cielo', 'Dfm', 'jdid', '190Ch', 'Agauna', 'clé', 'GE', '104', ',150', '5tirbou', '200chevaux', 'litr', 'Meawd', '2.8l', 'مارسيداس', 'opf', '140chevaux', '233ch', '2f', 'ES', '40tdi', '4CYLINDRES.', 'CE', '3.4L', 'silndr', '2.2crdi', 'TC', 'كحرك', 'Exprès', '3l', 'dci...115', '1.0TSI', 'essanc', '2.2dsl', '110Chv', '21', '184CH', '287ch', 'Memoire', 'daihatsu', 'terios', 'Eco-G', '28ch', 'T-gdi', '2,4', 'L143', 'benz', 'FIAT', 'évico', '2.0TFSI', '215ch', '0', 'vr6', '.1', 'shovuo', 'glx', 'trbo', '1.2turbo', 'Turbo,', '5dci', 'ULTRA', 'Zen', 'Ta3', 'mison', 'بين', 'توربو', 'mercedes-glc-250-amg-line-211c', 'أنهh', 'V.6', 'gts', '1.9_190', 'atmospheric', 'RD', 'LHR', 'e-tsi', 'D4t', '1.0,100cv', '135', '2lit', 'pouch', 'liter', 'bouch', '194cv', 'Chevrolet', 't-gdi', 'essen', '1;0', 'modele', 'gtl', '177chv', 'hDi', 'Allure', '05', 'tgdi', '2.0hdi', 'tutbo', '140ccv', 'h100', '2003', 'spicyal', '4سيلاندر', '1.6dci', 'golf3', 'BLUEMOTION', 'gdi', '43', 'amg', 'ECO-G', 'Motors', \"1'5\", 'ma', 'peurtech', 'extreme', '189', 'e39', 'TCU', 'MERCEDES', 'LIN', '1.9/130ch', '2ltr', '333', 'VOLKSWAGEN', 'POLO', '80CH', 'dci110', 'BiTDI', '239ch', 'turbocompresseur', 'Multijet', '140tce', '20.', '1.2.16v', '152CH', '172ch', 'simense', 'e-HYBRID', '80hp', 'om646', '1.6hd', 'kw', 'N.m', '(4', 'piston', 'inergie', '4/4', 'Renault', 'شكمان', 'باطة', 'زاداف', 'GMC', 'YUKON', 'DENALI', 'Pwat', '1300', 'cm', '.TDI', '250ch', '240CV', '116CV', 'letr', '2.3dci', 'eTFSI', 'راكب', '145Ch', '198ch', '/gaz', 'V12', 'ti', 'BI', 'speedtronic', 'شيفرولي', 'سايل', '..', 'R-DYNAMIC', '(Automatique', 'بوش', '1,6hdi', 'ISG', '(Essence', 'BVM)', 'Litre', '173', '1.9لا', '32ch', '111cdi', 'tddi', '3litr', '235', 'Fr', 'Cylindre', 'h1', 'Td4', '65chv', 'هاربين', 'Gonow', '90CV', 'بحالة', 'جيدة', '166cv', 'Semi-électrique', '(184ch+20ch)', '130c', 'E-torq', '105.', '230ch', 'افيوا', 'option', '2.2l', '/110chv', '4D', '125chvx', '110hp', 'DOHC16v', 'TL', 'silander', 'Quickshift', 'la100spisail', 'Fiat', '272ch', 'GLC', 'Demi', '2liter', 'dièse', 'اجدي', 'Acor', 'plombé', 'Puiss.', 'Fiscale', ':', '1.5hdi', 'T-Roc', 'kit', 'b', '/120', 'mph', '286ch', '1‚3', '220CDI', 'متورها', 'مريغيزي', '2tfsi', 'dalfi', 'Essance', 'ehybrid', '2.0HDi', '190CH', 'dci110ch', 'base', 'tip2', '64', '2.0crdi', 'Hyundai', 'Creta', 'portes', 'dci/85', '02', 'ess.', '360', 'profesional', 'itourq', 'Etsi', 'Purteche', '1.5hd', '112chv', 'bci', 'MERCRDES', '121Ch', 'TSL', '1.2vti', 'ESs', '8CV', '١٠٦', 'اشديي', '/150', 'Très', 'bon', 'E-TECH', 'simple/', 'خاصه', 'multi', 'air.', 'T-', '48v', '27', '1.6i', 'vlv', '2;1', '170CV', 'CHOVE', '6em', '1.5dCi', '400d', '6cylinder', '3.0L', '330ch', 'EH', '320L.', '3500', 'HDI92', '177cho/', '1.6/', 'DTi', '102Ch', '2Litre', '6.5', 'CYLINDRES', ',2.3', 'ml.', 'TSE', '612', 'M30B35', '295', 'MOTOR', '2019', '100cc', 'D150', 'لا10خاصه', 'خدمة', 'مرسديس', 'très', '(205', 'junior)', '1.5l', '1.5dci.', '102cv', '4.6', '225ch', 'd4', 'eussns', '320i', 'chaussures', 'fair', '2.2dci', 'BLUETEC', '/120CHV', 'Stronic', 'eTsi', 'ch92', 'Chery', 'Tiggo', 'pro', '1.6simple', 'spark', '40,', 'hpi', 'chauvaux', '1.0Tsi', 'Junior', 'Semi', 'Hébrides', 'Opers', 'team', '100dci', 'W124', 'turbe', 'معاود', 'ريفيزو', '\\u200f4', 'CYLANDRE', 'SON', 'وقوة', 'air', '65chev', 'Q45', 'full', 'options', 'BLACK', 'M43', '1.4/', '90.2LITRE', '2l.', '08', 'جينور', 'esensse', 'Pas', 'complexité', 'dans', 'le', 'catalogue', '500.', \"L'offre\", 'moteurs', 'se', 'limite', 'à', 'seul', 'moulin.', 'Il', \"s'agit\", \"d'un\", 'trois-cylindres', 'couplé', 'une', 'rapports.', 'Une', 'hybridation', 'légère', 'vient', 'épauler', 'thermique.', \"C'est\", 'ce', 'système', 'que', 'dénomination', '\"Hybrid\"', \"s'est\", 'greffée', 'au', 'patronyme', 'citadine.', 'أشان', 'حديد', '1-8', 'اصونص', '145', 'mazout', 'LT', 'multyjet', 'evo', 'act', 'hk', 'OM', '1,2.', 'latr', 'esons', 'ste', '/11schv', '68ess', 'AVEO', 'inergi', '1.6..16v', 'chauveaux', '153', '312', '5turbo', 'بيجو', '604', 'Dyasal', \"O'9\", '122Cv', 'deisel', '143cv', 'isonse', 'TCE100', 'di', '171', '800', '1.8d', 'sempl', 'Business', 'ETech', '200CHV', 'Japon', '20v', 'City1.6', 'etorq110', 'Inginiom', '240cheveaux', 'ايسونس/', '140حصان', 'silan', 'Bls', 'clime', 'sylindre', '4cylindre', 'ftes', 'cvc', 'Td..143ch', 'sympl', 'Ds', 'TsI', 'GPs', 'tracker', 'Esse', 'p', 'Agg', 'V6.', '112che', 'Faire', '400', 'sylaindres', '110W', 'VTi', 'letre', 'places', 'express', 'Mahtot', 'mpi105', 'FT', 'L2', 'Inttacte', 'ما', 'ينقص', 'زيت', 'ولا', 'ماء', 'و', 'يسخن', 'l8', 'was', 'L6', '4500cc', 'Carburator', 'BlueHDI', '115dci', '5rs', 'lain', 'مفيهاش', 'موتار', 'tirpo', 'Dsg.', 'Tdi.', 'GL', 'Base', 'gl', 'PRESTIGE', '4X2-', 'E6U', '2.6', 'فيات', '6line', 'tourbo', '70ch500', 'val', 'LINGE', '2.5CRD', '2.25', '82cv', '311ch', '1.2.', 'désolé', 'فيها', 'منور', 'شباب', 'مينقسش', '4cyL', 'LITER', 'VGT', '2.0.150', '87cv', 'D.', 'C.', '75cheuv', 'Kia', 'Stonic', 'iBVM6', 'Active', 'essens', 'مايسخن', 'ماينقص', 'This', '120chv', '18d', '110/', '2l2', '125H', 'vitass', '4clnd', 'essace', '162', 'Flexifuel', '450HP', 'Fayar', '90ch2.0', '5cilendre', '(la', 'casse)', '90HD', 'l’origine', 'Corolla', '100c', 'VI', 'CONFORTLINE', 'france', 'La7', '3.0l', '335hp', '/2.2', '/193', 'vites', 'v5', 'sempel', 'Série', '/82chv', '1.0ess70ch', '.dci', 'toute', 'xdrive', '1.4e', 'Energy', '254', '1/6', 'LETRES', 'TDI190ch', '85vh', 'آش', 'دي', 'إي', 'SIMPLE', 'Semple', '333ch', 'PS', '4.4L', 'biturbo', '408cv', 'toit', 'ouvrant', 'gbl', '292ch', 'Diasel', 'Td5', 'ecotec', '1.6d', 'htrac', 'CTDI', '1,9d', 'étorq', '16valve', 'esprit', 'Alpine', 'E-Tech', 'Intens', '1،', 'multijet2', 'service', 'depannage', 'TFSe', 'om651', 'smbl', '524td', 'Ch53', 'RS', '6vittess', '106', 'hDI', '1.5d', 'saxo', '-5', 'Faier', 'Mouter', 'mblombi', '34mille', 'SDV4', '100cvh', 'torque', '1.6115', '240chv', '1٫6.', 'Spéciale', 'purtch', 'bluetech', 'MTJ', '108hp', '750', 'VVt', 'turbodiesel', 'Cylinder', 'VVL', '1.7cdti', 'تيقوان', 'كـيــب', '_', 'Volkswagen', 'Tiguan', 'Cup', 'Marche', 'EA113', 'CDLA-265', 'spiciale', 'D180', 'TDI143', 'f', '13ch', 'spisyal', 'Gaz', 'AT6', '65che', '112hdi', '140chv', 'xud', 'لا120', '/16v', 'كونتنار', 'فريقو', 'DUAL', '140.ch', '6silinder', '422', 'TFSIe', 'D125cv', 'sampil', 'ligne,', 'ess46ch', 'o.8', '150ch)', '2.0لتر', 'toyota', '/130', '1.0ts', 'Sce65', 'H100', 'edition', '246hp', '2.0La', '(GPL)', '1.8R21', 'Om651', 'delphi', 'ESS+Gaz', 'Express.', 'DID', '2.2CRDI', '159ch', 'chaine', 'métalique', 'L150', 'Simple', 'mivec', 'junior', 'Son', 'BMW', '2ltre', 'enrgie', 'clio', 'rs', 'في', 'حالة', '46', '1200ch', 't30', 'sylandre', 's500', 'moter', 'HDI90', 'مريفزي', 'اشهر', 'acss12', 'dis', 'Avec', '52b', 'TCDI', '59ch', '250chv', 'etorc', 'bonne', '11ocv', '2d2', 'siland', '208', 'mahtoute', 'tuebo', '1.9mltj', 'fiat', 'dablo', 'sxd', '153ch', 'pwat', 'DSCG', 'TDS', '147cv', 'مبدل', 'Dci1.5']\n"
     ]
    }
   ],
   "source": [
    "column_values = copy['specs_car_engine'].dropna()  # Drop NaN values in the column\n",
    "\n",
    "# Initialize an empty list to store the unique strings separated by a space\n",
    "space_separated_strings = []\n",
    "\n",
    "# Iterate over each value in the column\n",
    "for value in column_values:\n",
    "    # Split the value by space\n",
    "    words = value.split()\n",
    "    # Check if there are more than one word (separated by space) in the value\n",
    "    if len(words) > 1:\n",
    "        # Add each separated string to the list (excluding duplicates)\n",
    "        for word in words:\n",
    "            if word not in space_separated_strings:\n",
    "                space_separated_strings.append(word)\n",
    "\n",
    "# Print the list of unique str\n",
    "print(space_separated_strings)"
   ]
  },
  {
   "cell_type": "code",
   "execution_count": 177,
   "metadata": {},
   "outputs": [
    {
     "name": "stdout",
     "output_type": "stream",
     "text": [
      "             id                                        title      price  \\\n",
      "0      37481055                   Dacia Sandero 2019 Stepway  3350000.0   \n",
      "1      37480999                Seat Ibiza 2018 High Facelift  1230000.0   \n",
      "2      37480705                          Kia Picanto 2023 Ex  3950000.0   \n",
      "3      37229272                         Nissan Qashqai 2009   1600000.0   \n",
      "4      37479579  Volkswagen Transporteur 2 T2 1982 Brésilien   380000.0   \n",
      "...         ...                                          ...        ...   \n",
      "92542  41120407                   Volkswagen Golf 8 2022 GTD  7800000.0   \n",
      "92543  41118613                       Hyundai Accent 2020 RB  3180000.0   \n",
      "92544  41120392                         Fiat Doblo 2024 Life  3600000.0   \n",
      "92545  41120380                            Peugeot 207 2012   1900000.0   \n",
      "92546  41118598                Volkswagen Golf 2 1990 Golf 2   990000.0   \n",
      "\n",
      "       specs_annee   specs_car_engine  specs_couleur_auto  specs_papiers  \\\n",
      "0             2019       1.5 DCI 90ch                  10            1.0   \n",
      "1             2018       1.6 MPi 90ch                  21            1.0   \n",
      "2             2023                NaN                   3            1.0   \n",
      "3             2009  2.0 DCI 150ch 4WD                  21            1.0   \n",
      "4             1982                  9                   9            1.0   \n",
      "...            ...                ...                 ...            ...   \n",
      "92542         2022        200 chevaux                  14            2.0   \n",
      "92543         2020     1.6 CRDI 128ch                  10            1.0   \n",
      "92544         2024            1.6 hdi                  21            1.0   \n",
      "92545         2012       1.4 ess 75ch                   3            1.0   \n",
      "92546         1990       1.8 ess 90ch                   3            1.0   \n",
      "\n",
      "       specs_kilometrage specs_marque-voiture       specs_modele  \\\n",
      "0                   75.0                Dacia            Sandero   \n",
      "1                58000.0                 Seat              Ibiza   \n",
      "2                    0.0                  Kia            Picanto   \n",
      "3                  287.0               Nissan            Qashqai   \n",
      "4                    NaN           Volkswagen  Transporteur 2 T2   \n",
      "...                  ...                  ...                ...   \n",
      "92542            33000.0           Volkswagen             Golf 8   \n",
      "92543            80000.0              Hyundai             Accent   \n",
      "92544                0.0                 Fiat              Doblo   \n",
      "92545              258.0              Peugeot                207   \n",
      "92546           111111.0           Volkswagen             Golf 2   \n",
      "\n",
      "      specs_finition  specs_energie  specs_boite  options  Engine Capacity  \\\n",
      "0            Stepway            NaN          NaN        0          1.50000   \n",
      "1      High Facelift            NaN          NaN        1          1.60000   \n",
      "2                 Ex            NaN          NaN        7          1.61063   \n",
      "3                NaN            NaN          NaN       11          2.00000   \n",
      "4          Brésilien            NaN          NaN        0          9.00000   \n",
      "...              ...            ...          ...      ...              ...   \n",
      "92542            GTD            NaN          NaN       14          1.61063   \n",
      "92543             RB            NaN          NaN       14          1.60000   \n",
      "92544           Life            NaN          NaN        0          1.60000   \n",
      "92545            NaN            NaN          NaN        7          1.40000   \n",
      "92546         Golf 2            NaN          NaN       10          1.80000   \n",
      "\n",
      "      Engine_Name_Match  \n",
      "0                   dci  \n",
      "1                   MPI  \n",
      "2                  <NA>  \n",
      "3                   dci  \n",
      "4                  <NA>  \n",
      "...                 ...  \n",
      "92542              <NA>  \n",
      "92543              CRDi  \n",
      "92544               HDI  \n",
      "92545               ess  \n",
      "92546               ess  \n",
      "\n",
      "[81651 rows x 16 columns]\n"
     ]
    }
   ],
   "source": [
    "\n",
    "provided_engine_names = ['HDI', 'TDI', 'VTEC', 'VVTi', 'TSI', 'TFSI', 'ECOBOOST', 'CRDi', 'MPI', 'GDI',\n",
    "                        'V6', 'V8', 'V12', 'Boxer', 'Wankel', 'Rotary', 'Hybrid', 'Turbo', 'Supercharged',\n",
    "                        'Diesel', 'Gasoline', 'Electric', 'Petrol', 'CNG', 'LPG', 'EcoDiesel', 'FlexFuel',\n",
    "                        'Direct Injection', 'Common Rail', 'Variable Valve Timing', 'Variable Valve Lift',\n",
    "                        'Variable Valve Duration', 'Overhead Cam', 'DOHC', 'SOHC', 'OHV', 'Pushrod',\n",
    "                        'Hybrid Synergy Drive', 'SkyActiv', 'BlueHDi', 'BlueMotion', 'eTorque', 'EcoBoost',\n",
    "                        'PureTech', 'EcoTec', 'i-VTEC', 'm-VTEC', 'Dual VVT-i', 'VVT-L', 'Variable Twin Turbo',\n",
    "                        'ess','dci','DCi','Dci','tce','VVTI','tsi','VVTL','4WD','hDi']\n",
    "\n",
    "\n",
    "# Assuming 'copy' is the name of your DataFrame and 'specs_car_engine' is the name of the column\n",
    "# Replace 'specs_car_engine' with the actual name of your column\n",
    "copy['Engine_Name_Match'] = copy['specs_car_engine'].apply(lambda x: next((engine for engine in provided_engine_names if isinstance(x, str) and engine.lower() in x.lower()), pd.NA))\n",
    "\n",
    "# Display the DataFrame with the new column\n",
    "print(copy)\n"
   ]
  },
  {
   "cell_type": "code",
   "execution_count": 178,
   "metadata": {},
   "outputs": [
    {
     "name": "stdout",
     "output_type": "stream",
     "text": [
      "Engine_Name_Match\n",
      "ess            18969\n",
      "TDI             8483\n",
      "HDI             7758\n",
      "dci             7300\n",
      "CRDi            2234\n",
      "MPI             1850\n",
      "TSI              818\n",
      "tce              497\n",
      "Turbo            452\n",
      "VVTi             425\n",
      "TFSI             340\n",
      "Diesel           168\n",
      "Hybrid           135\n",
      "V6               112\n",
      "DOHC              80\n",
      "V8                71\n",
      "PureTech          29\n",
      "GDI               28\n",
      "ECOBOOST          11\n",
      "VTEC               9\n",
      "4WD                7\n",
      "Common Rail        5\n",
      "eTorque            2\n",
      "V12                2\n",
      "EcoTec             2\n",
      "Name: count, dtype: int64\n"
     ]
    }
   ],
   "source": [
    "print(copy['Engine_Name_Match'].value_counts())"
   ]
  },
  {
   "cell_type": "code",
   "execution_count": 168,
   "metadata": {},
   "outputs": [
    {
     "data": {
      "text/plain": [
       "Index(['id', 'title', 'price', 'specs_annee', 'specs_car_engine',\n",
       "       'specs_couleur_auto', 'specs_papiers', 'specs_kilometrage',\n",
       "       'specs_marque-voiture', 'specs_modele', 'specs_finition',\n",
       "       'specs_energie', 'specs_boite', 'options', 'Engine Capacity',\n",
       "       'Engine_Name_Match'],\n",
       "      dtype='object')"
      ]
     },
     "execution_count": 168,
     "metadata": {},
     "output_type": "execute_result"
    }
   ],
   "source": [
    "copy.columns"
   ]
  },
  {
   "cell_type": "code",
   "execution_count": 169,
   "metadata": {},
   "outputs": [
    {
     "name": "stdout",
     "output_type": "stream",
     "text": [
      "id                        int64\n",
      "title                    object\n",
      "price                   float64\n",
      "specs_annee               int64\n",
      "specs_car_engine         object\n",
      "specs_couleur_auto        int32\n",
      "specs_papiers           float64\n",
      "specs_kilometrage       float64\n",
      "specs_marque-voiture     object\n",
      "specs_modele             object\n",
      "specs_finition           object\n",
      "specs_energie           float64\n",
      "specs_boite             float64\n",
      "options                   int64\n",
      "Engine Capacity         float64\n",
      "Engine_Name_Match        object\n",
      "dtype: object\n"
     ]
    }
   ],
   "source": [
    "print(copy[['id', 'title', 'price', 'specs_annee', 'specs_car_engine',\n",
    "       'specs_couleur_auto', 'specs_papiers', 'specs_kilometrage',\n",
    "       'specs_marque-voiture', 'specs_modele', 'specs_finition',\n",
    "       'specs_energie', 'specs_boite', 'options', 'Engine Capacity',\n",
    "       'Engine_Name_Match']].dtypes)"
   ]
  }
 ],
 "metadata": {
  "kernelspec": {
   "display_name": "base",
   "language": "python",
   "name": "python3"
  },
  "language_info": {
   "codemirror_mode": {
    "name": "ipython",
    "version": 3
   },
   "file_extension": ".py",
   "mimetype": "text/x-python",
   "name": "python",
   "nbconvert_exporter": "python",
   "pygments_lexer": "ipython3",
   "version": "3.11.7"
  }
 },
 "nbformat": 4,
 "nbformat_minor": 2
}
